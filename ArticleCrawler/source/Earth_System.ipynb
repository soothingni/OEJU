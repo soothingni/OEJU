{
 "cells": [
  {
   "cell_type": "markdown",
   "metadata": {},
   "source": [
    "# Earth System Science Data 크롤러\n",
    "\n",
    "- 2009 ~ 2019년 () 게재 논문 저자와 이메일을 크롤링하는 크롤러입니다.\n",
    "- 크롤링 결과는 'Platform', 'Year', 'Volume', 'Author', 'Email', 'URL'의 6개 칼럼으로 구성된 데이터프레임으로 정리하였습니다.\n"
   ]
  },
  {
   "cell_type": "code",
   "execution_count": 1,
   "metadata": {},
   "outputs": [],
   "source": [
    "from selenium import webdriver\n",
    "from selenium.webdriver.common.by import By\n",
    "from selenium.webdriver.support.ui import WebDriverWait\n",
    "from selenium.webdriver.support import expected_conditions as EC\n",
    "from selenium.webdriver.common.keys import Keys\n",
    "import pandas as pd"
   ]
  },
  {
   "cell_type": "code",
   "execution_count": null,
   "metadata": {},
   "outputs": [],
   "source": [
    "'https://www.earth-syst-sci-data.net/volumes.html'"
   ]
  },
  {
   "cell_type": "code",
   "execution_count": null,
   "metadata": {},
   "outputs": [],
   "source": [
    "df = pd.DataFrame(columns = ['Platform', 'Year', 'Volume', 'Author', 'Email', 'URL'])\n",
    "\n",
    "driver = webdriver.Chrome()\n",
    "wait = WebDriverWait(driver, 10)\n",
    "\n",
    "for i in range(1, 28):\n",
    "    url = f\"https://www.sciencedirect.com/journal/data-in-brief/vol/{i}/suppl/C\"\n",
    "    driver.get(url)\n",
    "    elem = driver.find_element_by_tag_name(\"body\")\n",
    "    elem.send_keys(Keys.PAGE_DOWN)\n",
    "    articles = driver.find_elements_by_class_name('anchor.article-content-title.u-margin-xs-top.u-margin-s-bottom')\n",
    "    article_url = [article.get_attribute('href') for article in articles]\n",
    "    for k in range(len(article_url)):\n",
    "        driver.get(article_url[k])\n",
    "        view_more = driver.find_elements_by_class_name('author.size-m.workspace-trigger')\n",
    "        if len(view_more) != 0:\n",
    "            for item in view_more:\n",
    "                envelope = item.find_elements_by_class_name('icon.icon-envelope')\n",
    "                if not not envelope:\n",
    "                    item.click()\n",
    "#                     wait.until(EC.presence_of_element_located((By.CLASS_NAME, 'WorkspaceAuthor.text-s')))\n",
    "#                     wait.until(EC.presence_of_element_located((By.CLASS_NAME, 'e-address')))\n",
    "                    author = driver.find_element_by_class_name('WorkspaceAuthor.text-s').find_element_by_class_name('author').text\n",
    "                    email = driver.find_element_by_class_name('e-address').text\n",
    "                    year = driver.find_element_by_class_name('text-xs').text.split()[3].replace(',', '')\n",
    "                    df = df.append({'Platform': 'Data in Brief', 'Year': year, 'Volume': i, 'Author': author, 'Email': email, 'URL': article_url[k] }, ignore_index=True)\n",
    "#                     wait.until(EC.element_to_be_clickable((By.CLASS_NAME, 'icon.icon-cross')))\n",
    "                    elem = driver.find_element_by_tag_name(\"body\")\n",
    "                    elem.send_keys(Keys.RETURN)\n",
    "print('finished')"
   ]
  }
 ],
 "metadata": {
  "kernelspec": {
   "display_name": "Python 3",
   "language": "python",
   "name": "python3"
  },
  "language_info": {
   "codemirror_mode": {
    "name": "ipython",
    "version": 3
   },
   "file_extension": ".py",
   "mimetype": "text/x-python",
   "name": "python",
   "nbconvert_exporter": "python",
   "pygments_lexer": "ipython3",
   "version": "3.7.5"
  }
 },
 "nbformat": 4,
 "nbformat_minor": 2
}
