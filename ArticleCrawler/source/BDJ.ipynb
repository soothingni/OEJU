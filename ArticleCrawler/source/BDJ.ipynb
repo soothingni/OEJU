{
 "cells": [
  {
   "cell_type": "markdown",
   "metadata": {},
   "source": [
    "# Biodiversity Data Journal 크롤러\n",
    "\n",
    "- 2013 ~ 2019년 (vol.1 ~ vol.7) 게재 논문 저자와 이메일을 크롤링하는 크롤러입니다.\n",
    "- 크롤링 결과는 'Platform', 'Year', 'Volume', 'Author', 'Email', 'URL'의 6개 칼럼으로 구성된 데이터프레임으로 정리하였습니다."
   ]
  },
  {
   "cell_type": "code",
   "execution_count": 1,
   "metadata": {
    "ExecuteTime": {
     "end_time": "2020-02-10T05:51:45.830933Z",
     "start_time": "2020-02-10T05:51:45.826944Z"
    }
   },
   "outputs": [],
   "source": [
    "from selenium import webdriver\n",
    "from selenium.webdriver.common.by import By\n",
    "from selenium.webdriver.support.ui import WebDriverWait\n",
    "from selenium.webdriver.support import expected_conditions as EC\n",
    "from selenium.webdriver.common.keys import Keys\n",
    "import pandas as pd\n",
    "import time"
   ]
  },
  {
   "cell_type": "code",
   "execution_count": 130,
   "metadata": {},
   "outputs": [
    {
     "name": "stdout",
     "output_type": "stream",
     "text": [
      "finshed\n"
     ]
    }
   ],
   "source": [
    "df = pd.DataFrame(columns = ['Platform', 'Year', 'Volume', 'Author', 'Email', 'URL'])\n",
    "\n",
    "driver = webdriver.Chrome('../chromedriver')\n",
    "\n",
    "root = 'https://bdj.pensoft.net/browse_journal_articles.php?journal_name=bdj&form_name=filter_articles&sortby=0&journal_id=1&search_in_=0&to_date=31%2F12%2F2019&section_type[]=8&p='\n",
    "\n",
    "wait = WebDriverWait(driver, 10)\n",
    "\n",
    "for k in range(10):\n",
    "    board_url = root + str(k)\n",
    "    driver.get(board_url)\n",
    "    articles = driver.find_elements_by_class_name('col_no_padding.col-xs-11.start-xs.articleHeadline')\n",
    "    article_url = [article.find_element_by_tag_name('a').get_attribute('href') for article in articles]\n",
    "    for url in article_url:\n",
    "        driver.get(url)\n",
    "        article_id = driver.find_element_by_id('article-id')\n",
    "        volume = article_id.text.split()[3].strip(':')\n",
    "        year = article_id.text.split('(')[-1].strip(')')[-4:]\n",
    "        #iframe 변경\n",
    "        iframe = driver.find_element_by_xpath('//*[@id=\"articleIframe\"]')\n",
    "        driver.switch_to.frame(iframe)\n",
    "        #드롭다운 버튼 클릭\n",
    "        wait.until(EC.presence_of_element_located((By.CLASS_NAME, 'P-Article-Preview-Names.unselectable')))\n",
    "        button = driver.find_element_by_class_name('P-Article-Preview-Names.unselectable').find_element_by_tag_name('a')\n",
    "        button.click()\n",
    "        auth_info = driver.find_element_by_class_name('P-Article-Info-Block-Row').text\n",
    "        try:   #교신 저자 2명 이상인 경우\n",
    "            authors = auth_info.lstrip('Corresponding author: ').split(',')\n",
    "            for author in authors:\n",
    "                author_name = author.split('(')[0].strip()\n",
    "                author_email = author.split('(')[1].strip(')')\n",
    "                df = df.append({'Platform': 'BDJ', 'Year': year, 'Volume': volume, 'Author': author_name, 'Email': author_email, 'URL': url}, ignore_index = True)\n",
    "        except:   #교신 저자 1명인 경우\n",
    "            author = auth_info.split('(')[0].lstrip('Corresponding author: ').rstrip()\n",
    "            email = auth_info.split('(')[1].strip(')')\n",
    "            df = df.append({'Platform': 'BDJ', 'Year': year, 'Volume': volume, 'Author': author, 'Email': email, 'URL': url}, ignore_index = True)\n",
    "print('finished')"
   ]
  },
  {
   "cell_type": "code",
   "execution_count": 129,
   "metadata": {},
   "outputs": [
    {
     "data": {
      "text/html": [
       "<div>\n",
       "<style scoped>\n",
       "    .dataframe tbody tr th:only-of-type {\n",
       "        vertical-align: middle;\n",
       "    }\n",
       "\n",
       "    .dataframe tbody tr th {\n",
       "        vertical-align: top;\n",
       "    }\n",
       "\n",
       "    .dataframe thead th {\n",
       "        text-align: right;\n",
       "    }\n",
       "</style>\n",
       "<table border=\"1\" class=\"dataframe\">\n",
       "  <thead>\n",
       "    <tr style=\"text-align: right;\">\n",
       "      <th></th>\n",
       "      <th>Platform</th>\n",
       "      <th>Year</th>\n",
       "      <th>Volume</th>\n",
       "      <th>Author</th>\n",
       "      <th>Email</th>\n",
       "      <th>URL</th>\n",
       "    </tr>\n",
       "  </thead>\n",
       "  <tbody>\n",
       "    <tr>\n",
       "      <th>0</th>\n",
       "      <td>BDJ</td>\n",
       "      <td>2019</td>\n",
       "      <td>7</td>\n",
       "      <td>Frederik Van de Perre</td>\n",
       "      <td>frederik.vandeperre@uantwerpen.be</td>\n",
       "      <td>https://bdj.pensoft.net/article/46948/</td>\n",
       "    </tr>\n",
       "    <tr>\n",
       "      <th>1</th>\n",
       "      <td>BDJ</td>\n",
       "      <td>2019</td>\n",
       "      <td>7</td>\n",
       "      <td>Bang Van Tran</td>\n",
       "      <td>vn.vanbang@gmail.com</td>\n",
       "      <td>https://bdj.pensoft.net/article/39233/</td>\n",
       "    </tr>\n",
       "    <tr>\n",
       "      <th>2</th>\n",
       "      <td>BDJ</td>\n",
       "      <td>2019</td>\n",
       "      <td>7</td>\n",
       "      <td>Reinaldo Imbrozio Barbosa</td>\n",
       "      <td>reinaldo@inpa.gov.br</td>\n",
       "      <td>https://bdj.pensoft.net/article/47025/</td>\n",
       "    </tr>\n",
       "    <tr>\n",
       "      <th>3</th>\n",
       "      <td>BDJ</td>\n",
       "      <td>2019</td>\n",
       "      <td>7</td>\n",
       "      <td>Rui B. Elias</td>\n",
       "      <td>rui.mp.elias@uac.pt</td>\n",
       "      <td>https://bdj.pensoft.net/article/38687/</td>\n",
       "    </tr>\n",
       "    <tr>\n",
       "      <th>4</th>\n",
       "      <td>BDJ</td>\n",
       "      <td>2019</td>\n",
       "      <td>7</td>\n",
       "      <td>Stefano Mammola</td>\n",
       "      <td>stefano.mammola@helsinki.fi</td>\n",
       "      <td>https://bdj.pensoft.net/article/38492/</td>\n",
       "    </tr>\n",
       "    <tr>\n",
       "      <th>...</th>\n",
       "      <td>...</td>\n",
       "      <td>...</td>\n",
       "      <td>...</td>\n",
       "      <td>...</td>\n",
       "      <td>...</td>\n",
       "      <td>...</td>\n",
       "    </tr>\n",
       "    <tr>\n",
       "      <th>136</th>\n",
       "      <td>BDJ</td>\n",
       "      <td>2014</td>\n",
       "      <td>2</td>\n",
       "      <td>Julissa Roncal</td>\n",
       "      <td>jroncal@mun.ca</td>\n",
       "      <td>https://bdj.pensoft.net/article/1078/</td>\n",
       "    </tr>\n",
       "    <tr>\n",
       "      <th>137</th>\n",
       "      <td>BDJ</td>\n",
       "      <td>2014</td>\n",
       "      <td>2</td>\n",
       "      <td>Gary D Powney</td>\n",
       "      <td>gary.powney@ceh.ac.uk</td>\n",
       "      <td>https://bdj.pensoft.net/article/1041/</td>\n",
       "    </tr>\n",
       "    <tr>\n",
       "      <th>138</th>\n",
       "      <td>BDJ</td>\n",
       "      <td>2014</td>\n",
       "      <td>2</td>\n",
       "      <td>Bonaventure Sonké</td>\n",
       "      <td>bsonke_1999@yahoo.com</td>\n",
       "      <td>https://bdj.pensoft.net/article/1049/</td>\n",
       "    </tr>\n",
       "    <tr>\n",
       "      <th>139</th>\n",
       "      <td>BDJ</td>\n",
       "      <td>2014</td>\n",
       "      <td>2</td>\n",
       "      <td>Sarah Faulwetter</td>\n",
       "      <td>sarifa@hcmr.gr</td>\n",
       "      <td>https://bdj.pensoft.net/article/1024/</td>\n",
       "    </tr>\n",
       "    <tr>\n",
       "      <th>140</th>\n",
       "      <td>BDJ</td>\n",
       "      <td>2013</td>\n",
       "      <td>1</td>\n",
       "      <td>Sarah Faulwetter</td>\n",
       "      <td>sarifa@hcmr.gr</td>\n",
       "      <td>https://bdj.pensoft.net/article/961/</td>\n",
       "    </tr>\n",
       "  </tbody>\n",
       "</table>\n",
       "<p>141 rows × 6 columns</p>\n",
       "</div>"
      ],
      "text/plain": [
       "    Platform  Year Volume                     Author  \\\n",
       "0        BDJ  2019      7      Frederik Van de Perre   \n",
       "1        BDJ  2019      7              Bang Van Tran   \n",
       "2        BDJ  2019      7  Reinaldo Imbrozio Barbosa   \n",
       "3        BDJ  2019      7               Rui B. Elias   \n",
       "4        BDJ  2019      7            Stefano Mammola   \n",
       "..       ...   ...    ...                        ...   \n",
       "136      BDJ  2014      2             Julissa Roncal   \n",
       "137      BDJ  2014      2              Gary D Powney   \n",
       "138      BDJ  2014      2          Bonaventure Sonké   \n",
       "139      BDJ  2014      2           Sarah Faulwetter   \n",
       "140      BDJ  2013      1           Sarah Faulwetter   \n",
       "\n",
       "                                 Email                                     URL  \n",
       "0    frederik.vandeperre@uantwerpen.be  https://bdj.pensoft.net/article/46948/  \n",
       "1                 vn.vanbang@gmail.com  https://bdj.pensoft.net/article/39233/  \n",
       "2                 reinaldo@inpa.gov.br  https://bdj.pensoft.net/article/47025/  \n",
       "3                  rui.mp.elias@uac.pt  https://bdj.pensoft.net/article/38687/  \n",
       "4          stefano.mammola@helsinki.fi  https://bdj.pensoft.net/article/38492/  \n",
       "..                                 ...                                     ...  \n",
       "136                     jroncal@mun.ca   https://bdj.pensoft.net/article/1078/  \n",
       "137              gary.powney@ceh.ac.uk   https://bdj.pensoft.net/article/1041/  \n",
       "138              bsonke_1999@yahoo.com   https://bdj.pensoft.net/article/1049/  \n",
       "139                     sarifa@hcmr.gr   https://bdj.pensoft.net/article/1024/  \n",
       "140                     sarifa@hcmr.gr    https://bdj.pensoft.net/article/961/  \n",
       "\n",
       "[141 rows x 6 columns]"
      ]
     },
     "execution_count": 129,
     "metadata": {},
     "output_type": "execute_result"
    }
   ],
   "source": [
    "df"
   ]
  },
  {
   "cell_type": "code",
   "execution_count": 131,
   "metadata": {},
   "outputs": [],
   "source": [
    "df.to_csv('../csv/BDJ.txt', encoding = 'utf-8')"
   ]
  },
  {
   "cell_type": "code",
   "execution_count": 124,
   "metadata": {},
   "outputs": [],
   "source": []
  },
  {
   "cell_type": "code",
   "execution_count": null,
   "metadata": {},
   "outputs": [],
   "source": []
  }
 ],
 "metadata": {
  "kernelspec": {
   "display_name": "Python 3",
   "language": "python",
   "name": "python3"
  },
  "language_info": {
   "codemirror_mode": {
    "name": "ipython",
    "version": 3
   },
   "file_extension": ".py",
   "mimetype": "text/x-python",
   "name": "python",
   "nbconvert_exporter": "python",
   "pygments_lexer": "ipython3",
   "version": "3.7.5"
  },
  "varInspector": {
   "cols": {
    "lenName": 16,
    "lenType": 16,
    "lenVar": 40
   },
   "kernels_config": {
    "python": {
     "delete_cmd_postfix": "",
     "delete_cmd_prefix": "del ",
     "library": "var_list.py",
     "varRefreshCmd": "print(var_dic_list())"
    },
    "r": {
     "delete_cmd_postfix": ") ",
     "delete_cmd_prefix": "rm(",
     "library": "var_list.r",
     "varRefreshCmd": "cat(var_dic_list()) "
    }
   },
   "types_to_exclude": [
    "module",
    "function",
    "builtin_function_or_method",
    "instance",
    "_Feature"
   ],
   "window_display": false
  }
 },
 "nbformat": 4,
 "nbformat_minor": 2
}
