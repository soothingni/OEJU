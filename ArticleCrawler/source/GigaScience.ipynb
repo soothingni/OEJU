{
 "cells": [
  {
   "cell_type": "markdown",
   "metadata": {},
   "source": [
    "# GigaScience 크롤러\n",
    "\n",
    "- 2012 ~ 2019년 (vol.1 ~ vol.27) 게재 논문 저자와 이메일을 크롤링하는 크롤러입니다.\n",
    "- 크롤링 결과는 'Platform', 'Year', 'Volume', 'Author', 'Email', 'URL'의 6개 칼럼으로 구성된 데이터프레임으로 정리하였습니다."
   ]
  },
  {
   "cell_type": "code",
   "execution_count": 2,
   "metadata": {
    "ExecuteTime": {
     "end_time": "2020-02-10T05:51:45.830933Z",
     "start_time": "2020-02-10T05:51:45.826944Z"
    }
   },
   "outputs": [],
   "source": [
    "from selenium import webdriver\n",
    "from selenium.webdriver.common.by import By\n",
    "from selenium.webdriver.support.ui import WebDriverWait\n",
    "from selenium.webdriver.support import expected_conditions as EC\n",
    "from selenium.webdriver.common.keys import Keys\n",
    "import pandas as pd\n",
    "import time"
   ]
  },
  {
   "cell_type": "code",
   "execution_count": 73,
   "metadata": {
    "ExecuteTime": {
     "end_time": "2020-02-10T06:47:35.587015Z",
     "start_time": "2020-02-10T06:47:13.122925Z"
    }
   },
   "outputs": [
    {
     "name": "stdout",
     "output_type": "stream",
     "text": [
      "finished\n"
     ]
    }
   ],
   "source": [
    "df = pd.DataFrame(columns = ['Platform', 'Year', 'Volume', 'Author', 'Email', 'URL'])\n",
    "\n",
    "driver = webdriver.Chrome('../chromedriver')\n",
    "\n",
    "root = 'https://academic.oup.com/gigascience/search-results?sort=Date+%e2%80%93+Newest+First&f_ContentType=Journal+Article&fl_SiteID=5589&rg_ArticleDate=01%2f01%2f1666+TO+12%2f31%2f2019&page='\n",
    "\n",
    "for i in range(1, 35):   #34페이지까지 있음\n",
    "    driver.get(root + str(i))\n",
    "    articles = driver.find_elements_by_class_name('article-link')\n",
    "    article_urls = [article.get_attribute('href') for article in articles]\n",
    "    for url in article_urls:\n",
    "        driver.get(url)\n",
    "        authors = driver.find_elements_by_class_name('al-author-name-more')\n",
    "        show_more = driver.find_elements_by_class_name('meta-authors--etal.is-active')\n",
    "        if len(show_more) != 0:\n",
    "            show_more[0].click()\n",
    "        for name in authors:\n",
    "            email_button = name.find_elements_by_class_name('icon-general-mail')\n",
    "            if len(email_button) != 0:\n",
    "                name.click()\n",
    "                time.sleep(1)\n",
    "                text = name.text\n",
    "                author = text.split('Correspondence address.')[0].split('\\n')[0]\n",
    "                email = text.split('Correspondence address.')[-1].split('mail: ')[-1].split('\\n')[0]\n",
    "                citation = driver.find_element_by_class_name('ww-citation-primary').text\n",
    "                year = citation.split(', ')[3].split()[-1]\n",
    "                volume = citation.split(', ')[1].split()[-1]\n",
    "                df = df.append({'Platform': 'GigaScience', 'Year': year, 'Volume': volume, 'Author': author, 'Email': email, 'URL': url}, ignore_index = True)\n",
    "                elem = driver.find_element_by_class_name('center-inner-row')   #저자 상세보기 팝업 제거\n",
    "                elem.click()\n",
    "print('finished')"
   ]
  },
  {
   "cell_type": "code",
   "execution_count": 74,
   "metadata": {
    "ExecuteTime": {
     "end_time": "2020-02-10T06:47:37.215655Z",
     "start_time": "2020-02-10T06:47:37.200695Z"
    },
    "scrolled": true
   },
   "outputs": [
    {
     "data": {
      "text/html": [
       "<div>\n",
       "<style scoped>\n",
       "    .dataframe tbody tr th:only-of-type {\n",
       "        vertical-align: middle;\n",
       "    }\n",
       "\n",
       "    .dataframe tbody tr th {\n",
       "        vertical-align: top;\n",
       "    }\n",
       "\n",
       "    .dataframe thead th {\n",
       "        text-align: right;\n",
       "    }\n",
       "</style>\n",
       "<table border=\"1\" class=\"dataframe\">\n",
       "  <thead>\n",
       "    <tr style=\"text-align: right;\">\n",
       "      <th></th>\n",
       "      <th>Platform</th>\n",
       "      <th>Year</th>\n",
       "      <th>Volume</th>\n",
       "      <th>Author</th>\n",
       "      <th>Email</th>\n",
       "      <th>URL</th>\n",
       "    </tr>\n",
       "  </thead>\n",
       "  <tbody>\n",
       "    <tr>\n",
       "      <th>0</th>\n",
       "      <td>GigaScience</td>\n",
       "      <td>2019</td>\n",
       "      <td>8</td>\n",
       "      <td>Yuanfang Guan</td>\n",
       "      <td>gyuanfan@umich.edu</td>\n",
       "      <td>https://academic.oup.com/gigascience/article/8...</td>\n",
       "    </tr>\n",
       "    <tr>\n",
       "      <th>1</th>\n",
       "      <td>GigaScience</td>\n",
       "      <td>2019</td>\n",
       "      <td>8</td>\n",
       "      <td>Han Ming Gan</td>\n",
       "      <td>han.gan@deakin.edu.au</td>\n",
       "      <td>https://academic.oup.com/gigascience/article/8...</td>\n",
       "    </tr>\n",
       "    <tr>\n",
       "      <th>2</th>\n",
       "      <td>GigaScience</td>\n",
       "      <td>2019</td>\n",
       "      <td>8</td>\n",
       "      <td>Alexandra Pavlova</td>\n",
       "      <td>alexandra.pavlova@monash.edu</td>\n",
       "      <td>https://academic.oup.com/gigascience/article/8...</td>\n",
       "    </tr>\n",
       "    <tr>\n",
       "      <th>3</th>\n",
       "      <td>GigaScience</td>\n",
       "      <td>2019</td>\n",
       "      <td>8</td>\n",
       "      <td>Namshin Kim</td>\n",
       "      <td>deepreds@kribb.re.kr</td>\n",
       "      <td>https://academic.oup.com/gigascience/article/8...</td>\n",
       "    </tr>\n",
       "    <tr>\n",
       "      <th>4</th>\n",
       "      <td>GigaScience</td>\n",
       "      <td>2019</td>\n",
       "      <td>8</td>\n",
       "      <td>Johan Dahlberg</td>\n",
       "      <td>johan.dahlberg@medsci.uu.se</td>\n",
       "      <td>https://academic.oup.com/gigascience/article/8...</td>\n",
       "    </tr>\n",
       "    <tr>\n",
       "      <th>...</th>\n",
       "      <td>...</td>\n",
       "      <td>...</td>\n",
       "      <td>...</td>\n",
       "      <td>...</td>\n",
       "      <td>...</td>\n",
       "      <td>...</td>\n",
       "    </tr>\n",
       "    <tr>\n",
       "      <th>869</th>\n",
       "      <td>GigaScience</td>\n",
       "      <td>2012</td>\n",
       "      <td>1</td>\n",
       "      <td>Dawn Field</td>\n",
       "      <td>Dawn Field</td>\n",
       "      <td>https://academic.oup.com/gigascience/article/1...</td>\n",
       "    </tr>\n",
       "    <tr>\n",
       "      <th>870</th>\n",
       "      <td>GigaScience</td>\n",
       "      <td>2012</td>\n",
       "      <td>1</td>\n",
       "      <td>J Gregory Caporaso</td>\n",
       "      <td>J Gregory Caporaso</td>\n",
       "      <td>https://academic.oup.com/gigascience/article/1...</td>\n",
       "    </tr>\n",
       "    <tr>\n",
       "      <th>871</th>\n",
       "      <td>GigaScience</td>\n",
       "      <td>2012</td>\n",
       "      <td>1</td>\n",
       "      <td>Jonathan A Eisen</td>\n",
       "      <td>Jonathan A Eisen</td>\n",
       "      <td>https://academic.oup.com/gigascience/article/1...</td>\n",
       "    </tr>\n",
       "    <tr>\n",
       "      <th>872</th>\n",
       "      <td>GigaScience</td>\n",
       "      <td>2012</td>\n",
       "      <td>1</td>\n",
       "      <td>Laurie Goodman</td>\n",
       "      <td>Laurie Goodman</td>\n",
       "      <td>https://academic.oup.com/gigascience/article/1...</td>\n",
       "    </tr>\n",
       "    <tr>\n",
       "      <th>873</th>\n",
       "      <td>GigaScience</td>\n",
       "      <td>2012</td>\n",
       "      <td>1</td>\n",
       "      <td>Robert W Murphy</td>\n",
       "      <td>Robert W Murphy</td>\n",
       "      <td>https://academic.oup.com/gigascience/article/1...</td>\n",
       "    </tr>\n",
       "  </tbody>\n",
       "</table>\n",
       "<p>874 rows × 6 columns</p>\n",
       "</div>"
      ],
      "text/plain": [
       "        Platform  Year Volume              Author  \\\n",
       "0    GigaScience  2019      8       Yuanfang Guan   \n",
       "1    GigaScience  2019      8        Han Ming Gan   \n",
       "2    GigaScience  2019      8   Alexandra Pavlova   \n",
       "3    GigaScience  2019      8         Namshin Kim   \n",
       "4    GigaScience  2019      8      Johan Dahlberg   \n",
       "..           ...   ...    ...                 ...   \n",
       "869  GigaScience  2012      1          Dawn Field   \n",
       "870  GigaScience  2012      1  J Gregory Caporaso   \n",
       "871  GigaScience  2012      1    Jonathan A Eisen   \n",
       "872  GigaScience  2012      1      Laurie Goodman   \n",
       "873  GigaScience  2012      1     Robert W Murphy   \n",
       "\n",
       "                            Email  \\\n",
       "0              gyuanfan@umich.edu   \n",
       "1           han.gan@deakin.edu.au   \n",
       "2    alexandra.pavlova@monash.edu   \n",
       "3            deepreds@kribb.re.kr   \n",
       "4     johan.dahlberg@medsci.uu.se   \n",
       "..                            ...   \n",
       "869                    Dawn Field   \n",
       "870            J Gregory Caporaso   \n",
       "871              Jonathan A Eisen   \n",
       "872                Laurie Goodman   \n",
       "873               Robert W Murphy   \n",
       "\n",
       "                                                   URL  \n",
       "0    https://academic.oup.com/gigascience/article/8...  \n",
       "1    https://academic.oup.com/gigascience/article/8...  \n",
       "2    https://academic.oup.com/gigascience/article/8...  \n",
       "3    https://academic.oup.com/gigascience/article/8...  \n",
       "4    https://academic.oup.com/gigascience/article/8...  \n",
       "..                                                 ...  \n",
       "869  https://academic.oup.com/gigascience/article/1...  \n",
       "870  https://academic.oup.com/gigascience/article/1...  \n",
       "871  https://academic.oup.com/gigascience/article/1...  \n",
       "872  https://academic.oup.com/gigascience/article/1...  \n",
       "873  https://academic.oup.com/gigascience/article/1...  \n",
       "\n",
       "[874 rows x 6 columns]"
      ]
     },
     "execution_count": 74,
     "metadata": {},
     "output_type": "execute_result"
    }
   ],
   "source": [
    "df"
   ]
  },
  {
   "cell_type": "code",
   "execution_count": 41,
   "metadata": {},
   "outputs": [],
   "source": [
    "df.to_csv('GigaScience.csv', encoding = 'utf-8')"
   ]
  },
  {
   "cell_type": "code",
   "execution_count": null,
   "metadata": {},
   "outputs": [],
   "source": []
  }
 ],
 "metadata": {
  "kernelspec": {
   "display_name": "Python 3",
   "language": "python",
   "name": "python3"
  },
  "language_info": {
   "codemirror_mode": {
    "name": "ipython",
    "version": 3
   },
   "file_extension": ".py",
   "mimetype": "text/x-python",
   "name": "python",
   "nbconvert_exporter": "python",
   "pygments_lexer": "ipython3",
   "version": "3.7.5"
  },
  "varInspector": {
   "cols": {
    "lenName": 16,
    "lenType": 16,
    "lenVar": 40
   },
   "kernels_config": {
    "python": {
     "delete_cmd_postfix": "",
     "delete_cmd_prefix": "del ",
     "library": "var_list.py",
     "varRefreshCmd": "print(var_dic_list())"
    },
    "r": {
     "delete_cmd_postfix": ") ",
     "delete_cmd_prefix": "rm(",
     "library": "var_list.r",
     "varRefreshCmd": "cat(var_dic_list()) "
    }
   },
   "types_to_exclude": [
    "module",
    "function",
    "builtin_function_or_method",
    "instance",
    "_Feature"
   ],
   "window_display": false
  }
 },
 "nbformat": 4,
 "nbformat_minor": 2
}
