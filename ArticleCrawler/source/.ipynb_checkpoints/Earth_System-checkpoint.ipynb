{
 "cells": [
  {
   "cell_type": "markdown",
   "metadata": {},
   "source": [
    "# Earth System Science Data 크롤러\n",
    "\n",
    "- 2009 ~ 2019년 () 게재 논문 저자와 이메일을 크롤링하는 크롤러입니다.\n",
    "- 크롤링 결과는 'Platform', 'Year', 'Volume', 'Author', 'Email', 'URL'의 6개 칼럼으로 구성된 데이터프레임으로 정리하였습니다.\n"
   ]
  },
  {
   "cell_type": "code",
   "execution_count": 1,
   "metadata": {
    "ExecuteTime": {
     "end_time": "2020-02-13T23:12:51.373191Z",
     "start_time": "2020-02-13T23:12:48.703168Z"
    }
   },
   "outputs": [],
   "source": [
    "from selenium import webdriver\n",
    "from selenium.webdriver.common.by import By\n",
    "from selenium.webdriver.support.ui import WebDriverWait\n",
    "from selenium.webdriver.support import expected_conditions as EC\n",
    "from selenium.webdriver.common.keys import Keys\n",
    "import pandas as pd"
   ]
  },
  {
   "cell_type": "markdown",
   "metadata": {},
   "source": [
    "## 1. URL 모으기\n",
    "\n",
    "- volume 별(`vol_list`), issue 별(`issues`) url을 모으는 부분. 이후에 크롤링 부분에서 여기서 모은 issue 별 url에 접속하여 개별 article의 url을 `article_url` 변수에 저장하여 활용하였음."
   ]
  },
  {
   "cell_type": "code",
   "execution_count": null,
   "metadata": {},
   "outputs": [],
   "source": [
    "root = 'https://www.earth-syst-sci-data.net/volumes.html'\n",
    "\n",
    "driver = webdriver.Chrome('../chromedriver.exe')\n",
    "\n",
    "driver.get(root)\n",
    "\n",
    "vol_list = driver.find_elements_by_class_name('grid-100.volumes')\n",
    "\n",
    "issues = []\n",
    "for vol in vol_list:\n",
    "    issues.extend(vol.find_elements_by_css_selector('ul > li > span > a'))\n",
    "    \n",
    "issues = [issue.get_attribute('href') for issue in issues]\n",
    "\n",
    "issues = issues[1:]   #2020년 issue 제외"
   ]
  },
  {
   "cell_type": "markdown",
   "metadata": {},
   "source": [
    "## 2. 크롤링"
   ]
  },
  {
   "cell_type": "code",
   "execution_count": 99,
   "metadata": {
    "ExecuteTime": {
     "end_time": "2020-02-14T00:08:14.134578Z",
     "start_time": "2020-02-13T23:52:16.169587Z"
    }
   },
   "outputs": [
    {
     "name": "stdout",
     "output_type": "stream",
     "text": [
      "finished\n"
     ]
    }
   ],
   "source": [
    "df = pd.DataFrame(columns = ['Platform', 'Year', 'Volume', 'Author', 'Email', 'URL'])\n",
    "\n",
    "#driver = webdriver.Chrome('../chromedriver.exe')\n",
    "#wait = WebDriverWait(driver, 10)\n",
    "\n",
    "for issue in issues:\n",
    "    driver.get(issue)\n",
    "    article_list = driver.find_elements_by_class_name('article-title')\n",
    "    article_url = [a.get_attribute('href') for a in article_list]\n",
    "    for article in article_url:\n",
    "        driver.get(article)\n",
    "        short = driver.find_element_by_class_name('authors-short')\n",
    "        short.click()\n",
    "        try:\n",
    "            correspondence = driver.find_element_by_class_name('correspondence-statement').text\n",
    "            author = correspondence.split('(')[0].replace('Correspondence: ', '').strip()\n",
    "            email = correspondence.split('(')[-1].replace(')', '')\n",
    "            year = article.split('/')[-2]\n",
    "            volume = article.split('/')[-4]\n",
    "            df = df.append({'Platform': 'Earth System Science Data', 'Year': year, 'Volume': volume, 'Author': author, 'Email': email, 'URL': article}, ignore_index=True)\n",
    "        except:\n",
    "            pass\n",
    "\n",
    "print('finished')"
   ]
  },
  {
   "cell_type": "markdown",
   "metadata": {},
   "source": [
    "## 3. 확인 후 저장"
   ]
  },
  {
   "cell_type": "code",
   "execution_count": 100,
   "metadata": {
    "ExecuteTime": {
     "end_time": "2020-02-14T00:08:19.347581Z",
     "start_time": "2020-02-14T00:08:19.337651Z"
    }
   },
   "outputs": [
    {
     "data": {
      "text/html": [
       "<div>\n",
       "<style scoped>\n",
       "    .dataframe tbody tr th:only-of-type {\n",
       "        vertical-align: middle;\n",
       "    }\n",
       "\n",
       "    .dataframe tbody tr th {\n",
       "        vertical-align: top;\n",
       "    }\n",
       "\n",
       "    .dataframe thead th {\n",
       "        text-align: right;\n",
       "    }\n",
       "</style>\n",
       "<table border=\"1\" class=\"dataframe\">\n",
       "  <thead>\n",
       "    <tr style=\"text-align: right;\">\n",
       "      <th></th>\n",
       "      <th>Platform</th>\n",
       "      <th>Year</th>\n",
       "      <th>Volume</th>\n",
       "      <th>Author</th>\n",
       "      <th>Email</th>\n",
       "      <th>URL</th>\n",
       "    </tr>\n",
       "  </thead>\n",
       "  <tbody>\n",
       "    <tr>\n",
       "      <td>0</td>\n",
       "      <td>Earth System Science Data</td>\n",
       "      <td>2019</td>\n",
       "      <td>11</td>\n",
       "      <td>Michal Mikolaj</td>\n",
       "      <td>mikolaj@gfz-potsdam.de</td>\n",
       "      <td>https://www.earth-syst-sci-data.net/11/1501/2019/</td>\n",
       "    </tr>\n",
       "    <tr>\n",
       "      <td>1</td>\n",
       "      <td>Earth System Science Data</td>\n",
       "      <td>2019</td>\n",
       "      <td>11</td>\n",
       "      <td>Panagiotis Athanasiou</td>\n",
       "      <td>panos.athanasiou@deltares.nl</td>\n",
       "      <td>https://www.earth-syst-sci-data.net/11/1515/2019/</td>\n",
       "    </tr>\n",
       "    <tr>\n",
       "      <td>2</td>\n",
       "      <td>Earth System Science Data</td>\n",
       "      <td>2019</td>\n",
       "      <td>11</td>\n",
       "      <td>Cristian Lussana</td>\n",
       "      <td>critianl@met.no</td>\n",
       "      <td>https://www.earth-syst-sci-data.net/11/1531/2019/</td>\n",
       "    </tr>\n",
       "    <tr>\n",
       "      <td>3</td>\n",
       "      <td>Earth System Science Data</td>\n",
       "      <td>2019</td>\n",
       "      <td>11</td>\n",
       "      <td>Matthew Gard</td>\n",
       "      <td>matthew.gard@adelaide.edu.au</td>\n",
       "      <td>https://www.earth-syst-sci-data.net/11/1553/2019/</td>\n",
       "    </tr>\n",
       "    <tr>\n",
       "      <td>4</td>\n",
       "      <td>Earth System Science Data</td>\n",
       "      <td>2019</td>\n",
       "      <td>11</td>\n",
       "      <td>Adam S. Ward</td>\n",
       "      <td>adamward@indiana.edu</td>\n",
       "      <td>https://www.earth-syst-sci-data.net/11/1567/2019/</td>\n",
       "    </tr>\n",
       "    <tr>\n",
       "      <td>...</td>\n",
       "      <td>...</td>\n",
       "      <td>...</td>\n",
       "      <td>...</td>\n",
       "      <td>...</td>\n",
       "      <td>...</td>\n",
       "      <td>...</td>\n",
       "    </tr>\n",
       "    <tr>\n",
       "      <td>362</td>\n",
       "      <td>Earth System Science Data</td>\n",
       "      <td>2015</td>\n",
       "      <td>7</td>\n",
       "      <td>M. P. Humphreys</td>\n",
       "      <td>m.p.humphreys@soton.ac.uk</td>\n",
       "      <td>https://www.earth-syst-sci-data.net/7/127/2015/</td>\n",
       "    </tr>\n",
       "    <tr>\n",
       "      <td>363</td>\n",
       "      <td>Earth System Science Data</td>\n",
       "      <td>2015</td>\n",
       "      <td>7</td>\n",
       "      <td>T. W. Estilow</td>\n",
       "      <td>thomas.estilow@rutgers.edu</td>\n",
       "      <td>https://www.earth-syst-sci-data.net/7/137/2015/</td>\n",
       "    </tr>\n",
       "    <tr>\n",
       "      <td>364</td>\n",
       "      <td>Earth System Science Data</td>\n",
       "      <td>2015</td>\n",
       "      <td>7</td>\n",
       "      <td>M. Tanguy</td>\n",
       "      <td>malngu@ceh.ac.uk</td>\n",
       "      <td>https://www.earth-syst-sci-data.net/7/143/2015/</td>\n",
       "    </tr>\n",
       "    <tr>\n",
       "      <td>365</td>\n",
       "      <td>Earth System Science Data</td>\n",
       "      <td>2014</td>\n",
       "      <td>6</td>\n",
       "      <td>U. Löptien</td>\n",
       "      <td>uloeptien@geomar.de</td>\n",
       "      <td>https://www.earth-syst-sci-data.net/6/367/2014/</td>\n",
       "    </tr>\n",
       "    <tr>\n",
       "      <td>366</td>\n",
       "      <td>Earth System Science Data</td>\n",
       "      <td>2014</td>\n",
       "      <td>6</td>\n",
       "      <td>K. A. Masarie</td>\n",
       "      <td>kenneth.masarie@noaa.gov</td>\n",
       "      <td>https://www.earth-syst-sci-data.net/6/375/2014/</td>\n",
       "    </tr>\n",
       "  </tbody>\n",
       "</table>\n",
       "<p>367 rows × 6 columns</p>\n",
       "</div>"
      ],
      "text/plain": [
       "                      Platform  Year Volume                 Author  \\\n",
       "0    Earth System Science Data  2019     11         Michal Mikolaj   \n",
       "1    Earth System Science Data  2019     11  Panagiotis Athanasiou   \n",
       "2    Earth System Science Data  2019     11       Cristian Lussana   \n",
       "3    Earth System Science Data  2019     11           Matthew Gard   \n",
       "4    Earth System Science Data  2019     11           Adam S. Ward   \n",
       "..                         ...   ...    ...                    ...   \n",
       "362  Earth System Science Data  2015      7        M. P. Humphreys   \n",
       "363  Earth System Science Data  2015      7          T. W. Estilow   \n",
       "364  Earth System Science Data  2015      7              M. Tanguy   \n",
       "365  Earth System Science Data  2014      6             U. Löptien   \n",
       "366  Earth System Science Data  2014      6          K. A. Masarie   \n",
       "\n",
       "                            Email  \\\n",
       "0          mikolaj@gfz-potsdam.de   \n",
       "1    panos.athanasiou@deltares.nl   \n",
       "2                 critianl@met.no   \n",
       "3    matthew.gard@adelaide.edu.au   \n",
       "4            adamward@indiana.edu   \n",
       "..                            ...   \n",
       "362     m.p.humphreys@soton.ac.uk   \n",
       "363    thomas.estilow@rutgers.edu   \n",
       "364              malngu@ceh.ac.uk   \n",
       "365           uloeptien@geomar.de   \n",
       "366      kenneth.masarie@noaa.gov   \n",
       "\n",
       "                                                   URL  \n",
       "0    https://www.earth-syst-sci-data.net/11/1501/2019/  \n",
       "1    https://www.earth-syst-sci-data.net/11/1515/2019/  \n",
       "2    https://www.earth-syst-sci-data.net/11/1531/2019/  \n",
       "3    https://www.earth-syst-sci-data.net/11/1553/2019/  \n",
       "4    https://www.earth-syst-sci-data.net/11/1567/2019/  \n",
       "..                                                 ...  \n",
       "362    https://www.earth-syst-sci-data.net/7/127/2015/  \n",
       "363    https://www.earth-syst-sci-data.net/7/137/2015/  \n",
       "364    https://www.earth-syst-sci-data.net/7/143/2015/  \n",
       "365    https://www.earth-syst-sci-data.net/6/367/2014/  \n",
       "366    https://www.earth-syst-sci-data.net/6/375/2014/  \n",
       "\n",
       "[367 rows x 6 columns]"
      ]
     },
     "execution_count": 100,
     "metadata": {},
     "output_type": "execute_result"
    }
   ],
   "source": [
    "df"
   ]
  },
  {
   "cell_type": "code",
   "execution_count": 101,
   "metadata": {
    "ExecuteTime": {
     "end_time": "2020-02-14T00:08:36.266763Z",
     "start_time": "2020-02-14T00:08:36.256770Z"
    }
   },
   "outputs": [],
   "source": [
    "df.to_csv('../csv/Earth_System_Science_Data.txt', encoding = 'utf-8')"
   ]
  },
  {
   "cell_type": "code",
   "execution_count": null,
   "metadata": {},
   "outputs": [],
   "source": []
  }
 ],
 "metadata": {
  "kernelspec": {
   "display_name": "Python 3",
   "language": "python",
   "name": "python3"
  },
  "language_info": {
   "codemirror_mode": {
    "name": "ipython",
    "version": 3
   },
   "file_extension": ".py",
   "mimetype": "text/x-python",
   "name": "python",
   "nbconvert_exporter": "python",
   "pygments_lexer": "ipython3",
   "version": "3.7.4"
  },
  "varInspector": {
   "cols": {
    "lenName": 16,
    "lenType": 16,
    "lenVar": 40
   },
   "kernels_config": {
    "python": {
     "delete_cmd_postfix": "",
     "delete_cmd_prefix": "del ",
     "library": "var_list.py",
     "varRefreshCmd": "print(var_dic_list())"
    },
    "r": {
     "delete_cmd_postfix": ") ",
     "delete_cmd_prefix": "rm(",
     "library": "var_list.r",
     "varRefreshCmd": "cat(var_dic_list()) "
    }
   },
   "types_to_exclude": [
    "module",
    "function",
    "builtin_function_or_method",
    "instance",
    "_Feature"
   ],
   "window_display": false
  }
 },
 "nbformat": 4,
 "nbformat_minor": 2
}
