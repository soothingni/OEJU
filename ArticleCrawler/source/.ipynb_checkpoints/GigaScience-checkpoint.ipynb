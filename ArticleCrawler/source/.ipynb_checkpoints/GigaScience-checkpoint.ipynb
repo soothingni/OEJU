{
 "cells": [
  {
   "cell_type": "markdown",
   "metadata": {},
   "source": [
    "# GigaScience 크롤러\n",
    "\n",
    "- 2012 ~ 2019년 (vol.1 ~ vol.27) 게재 논문 저자와 이메일을 크롤링하는 크롤러입니다.\n",
    "- 크롤링 결과는 'Platform', 'Year', 'Volume', 'Author', 'Email', 'URL'의 6개 칼럼으로 구성된 데이터프레임으로 정리하였습니다."
   ]
  },
  {
   "cell_type": "code",
   "execution_count": 1,
   "metadata": {
    "ExecuteTime": {
     "end_time": "2020-02-10T01:58:31.748440Z",
     "start_time": "2020-02-10T01:58:31.307348Z"
    }
   },
   "outputs": [],
   "source": [
    "from selenium import webdriver\n",
    "from selenium.webdriver.common.by import By\n",
    "from selenium.webdriver.support.ui import WebDriverWait\n",
    "from selenium.webdriver.support import expected_conditions as EC\n",
    "from selenium.webdriver.common.keys import Keys\n",
    "import pandas as pd"
   ]
  },
  {
   "cell_type": "code",
   "execution_count": 39,
   "metadata": {
    "ExecuteTime": {
     "end_time": "2020-02-10T02:35:08.202078Z",
     "start_time": "2020-02-10T02:33:53.063308Z"
    }
   },
   "outputs": [
    {
     "ename": "KeyboardInterrupt",
     "evalue": "",
     "output_type": "error",
     "traceback": [
      "\u001b[1;31m---------------------------------------------------------------------------\u001b[0m",
      "\u001b[1;31mTypeError\u001b[0m                                 Traceback (most recent call last)",
      "\u001b[1;32m~\\Anaconda3\\lib\\site-packages\\urllib3\\connectionpool.py\u001b[0m in \u001b[0;36m_make_request\u001b[1;34m(self, conn, method, url, timeout, chunked, **httplib_request_kw)\u001b[0m\n\u001b[0;32m    376\u001b[0m             \u001b[1;32mtry\u001b[0m\u001b[1;33m:\u001b[0m  \u001b[1;31m# Python 2.7, use buffering of HTTP responses\u001b[0m\u001b[1;33m\u001b[0m\u001b[1;33m\u001b[0m\u001b[0m\n\u001b[1;32m--> 377\u001b[1;33m                 \u001b[0mhttplib_response\u001b[0m \u001b[1;33m=\u001b[0m \u001b[0mconn\u001b[0m\u001b[1;33m.\u001b[0m\u001b[0mgetresponse\u001b[0m\u001b[1;33m(\u001b[0m\u001b[0mbuffering\u001b[0m\u001b[1;33m=\u001b[0m\u001b[1;32mTrue\u001b[0m\u001b[1;33m)\u001b[0m\u001b[1;33m\u001b[0m\u001b[1;33m\u001b[0m\u001b[0m\n\u001b[0m\u001b[0;32m    378\u001b[0m             \u001b[1;32mexcept\u001b[0m \u001b[0mTypeError\u001b[0m\u001b[1;33m:\u001b[0m  \u001b[1;31m# Python 3\u001b[0m\u001b[1;33m\u001b[0m\u001b[1;33m\u001b[0m\u001b[0m\n",
      "\u001b[1;31mTypeError\u001b[0m: getresponse() got an unexpected keyword argument 'buffering'",
      "\nDuring handling of the above exception, another exception occurred:\n",
      "\u001b[1;31mKeyboardInterrupt\u001b[0m                         Traceback (most recent call last)",
      "\u001b[1;32m<ipython-input-39-989295f57a70>\u001b[0m in \u001b[0;36m<module>\u001b[1;34m\u001b[0m\n\u001b[0;32m      6\u001b[0m     \u001b[0marticle_urls\u001b[0m \u001b[1;33m=\u001b[0m \u001b[1;33m[\u001b[0m\u001b[0marticle\u001b[0m\u001b[1;33m.\u001b[0m\u001b[0mget_attribute\u001b[0m\u001b[1;33m(\u001b[0m\u001b[1;34m'href'\u001b[0m\u001b[1;33m)\u001b[0m \u001b[1;32mfor\u001b[0m \u001b[0marticle\u001b[0m \u001b[1;32min\u001b[0m \u001b[0marticles\u001b[0m\u001b[1;33m]\u001b[0m\u001b[1;33m\u001b[0m\u001b[1;33m\u001b[0m\u001b[0m\n\u001b[0;32m      7\u001b[0m     \u001b[1;32mfor\u001b[0m \u001b[0murl\u001b[0m \u001b[1;32min\u001b[0m \u001b[0marticle_urls\u001b[0m\u001b[1;33m:\u001b[0m\u001b[1;33m\u001b[0m\u001b[1;33m\u001b[0m\u001b[0m\n\u001b[1;32m----> 8\u001b[1;33m         \u001b[0mdriver\u001b[0m\u001b[1;33m.\u001b[0m\u001b[0mget\u001b[0m\u001b[1;33m(\u001b[0m\u001b[0murl\u001b[0m\u001b[1;33m)\u001b[0m\u001b[1;33m\u001b[0m\u001b[1;33m\u001b[0m\u001b[0m\n\u001b[0m\u001b[0;32m      9\u001b[0m         \u001b[1;32mtry\u001b[0m\u001b[1;33m:\u001b[0m\u001b[1;33m\u001b[0m\u001b[1;33m\u001b[0m\u001b[0m\n\u001b[0;32m     10\u001b[0m             \u001b[0mauthors\u001b[0m \u001b[1;33m=\u001b[0m \u001b[0mdriver\u001b[0m\u001b[1;33m.\u001b[0m\u001b[0mfind_elements_by_class_name\u001b[0m\u001b[1;33m(\u001b[0m\u001b[1;34m'al-author-name-more'\u001b[0m\u001b[1;33m)\u001b[0m\u001b[1;33m\u001b[0m\u001b[1;33m\u001b[0m\u001b[0m\n",
      "\u001b[1;32m~\\Anaconda3\\lib\\site-packages\\selenium\\webdriver\\remote\\webdriver.py\u001b[0m in \u001b[0;36mget\u001b[1;34m(self, url)\u001b[0m\n\u001b[0;32m    331\u001b[0m         \u001b[0mLoads\u001b[0m \u001b[0ma\u001b[0m \u001b[0mweb\u001b[0m \u001b[0mpage\u001b[0m \u001b[1;32min\u001b[0m \u001b[0mthe\u001b[0m \u001b[0mcurrent\u001b[0m \u001b[0mbrowser\u001b[0m \u001b[0msession\u001b[0m\u001b[1;33m.\u001b[0m\u001b[1;33m\u001b[0m\u001b[1;33m\u001b[0m\u001b[0m\n\u001b[0;32m    332\u001b[0m         \"\"\"\n\u001b[1;32m--> 333\u001b[1;33m         \u001b[0mself\u001b[0m\u001b[1;33m.\u001b[0m\u001b[0mexecute\u001b[0m\u001b[1;33m(\u001b[0m\u001b[0mCommand\u001b[0m\u001b[1;33m.\u001b[0m\u001b[0mGET\u001b[0m\u001b[1;33m,\u001b[0m \u001b[1;33m{\u001b[0m\u001b[1;34m'url'\u001b[0m\u001b[1;33m:\u001b[0m \u001b[0murl\u001b[0m\u001b[1;33m}\u001b[0m\u001b[1;33m)\u001b[0m\u001b[1;33m\u001b[0m\u001b[1;33m\u001b[0m\u001b[0m\n\u001b[0m\u001b[0;32m    334\u001b[0m \u001b[1;33m\u001b[0m\u001b[0m\n\u001b[0;32m    335\u001b[0m     \u001b[1;33m@\u001b[0m\u001b[0mproperty\u001b[0m\u001b[1;33m\u001b[0m\u001b[1;33m\u001b[0m\u001b[0m\n",
      "\u001b[1;32m~\\Anaconda3\\lib\\site-packages\\selenium\\webdriver\\remote\\webdriver.py\u001b[0m in \u001b[0;36mexecute\u001b[1;34m(self, driver_command, params)\u001b[0m\n\u001b[0;32m    317\u001b[0m \u001b[1;33m\u001b[0m\u001b[0m\n\u001b[0;32m    318\u001b[0m         \u001b[0mparams\u001b[0m \u001b[1;33m=\u001b[0m \u001b[0mself\u001b[0m\u001b[1;33m.\u001b[0m\u001b[0m_wrap_value\u001b[0m\u001b[1;33m(\u001b[0m\u001b[0mparams\u001b[0m\u001b[1;33m)\u001b[0m\u001b[1;33m\u001b[0m\u001b[1;33m\u001b[0m\u001b[0m\n\u001b[1;32m--> 319\u001b[1;33m         \u001b[0mresponse\u001b[0m \u001b[1;33m=\u001b[0m \u001b[0mself\u001b[0m\u001b[1;33m.\u001b[0m\u001b[0mcommand_executor\u001b[0m\u001b[1;33m.\u001b[0m\u001b[0mexecute\u001b[0m\u001b[1;33m(\u001b[0m\u001b[0mdriver_command\u001b[0m\u001b[1;33m,\u001b[0m \u001b[0mparams\u001b[0m\u001b[1;33m)\u001b[0m\u001b[1;33m\u001b[0m\u001b[1;33m\u001b[0m\u001b[0m\n\u001b[0m\u001b[0;32m    320\u001b[0m         \u001b[1;32mif\u001b[0m \u001b[0mresponse\u001b[0m\u001b[1;33m:\u001b[0m\u001b[1;33m\u001b[0m\u001b[1;33m\u001b[0m\u001b[0m\n\u001b[0;32m    321\u001b[0m             \u001b[0mself\u001b[0m\u001b[1;33m.\u001b[0m\u001b[0merror_handler\u001b[0m\u001b[1;33m.\u001b[0m\u001b[0mcheck_response\u001b[0m\u001b[1;33m(\u001b[0m\u001b[0mresponse\u001b[0m\u001b[1;33m)\u001b[0m\u001b[1;33m\u001b[0m\u001b[1;33m\u001b[0m\u001b[0m\n",
      "\u001b[1;32m~\\Anaconda3\\lib\\site-packages\\selenium\\webdriver\\remote\\remote_connection.py\u001b[0m in \u001b[0;36mexecute\u001b[1;34m(self, command, params)\u001b[0m\n\u001b[0;32m    372\u001b[0m         \u001b[0mdata\u001b[0m \u001b[1;33m=\u001b[0m \u001b[0mutils\u001b[0m\u001b[1;33m.\u001b[0m\u001b[0mdump_json\u001b[0m\u001b[1;33m(\u001b[0m\u001b[0mparams\u001b[0m\u001b[1;33m)\u001b[0m\u001b[1;33m\u001b[0m\u001b[1;33m\u001b[0m\u001b[0m\n\u001b[0;32m    373\u001b[0m         \u001b[0murl\u001b[0m \u001b[1;33m=\u001b[0m \u001b[1;34m'%s%s'\u001b[0m \u001b[1;33m%\u001b[0m \u001b[1;33m(\u001b[0m\u001b[0mself\u001b[0m\u001b[1;33m.\u001b[0m\u001b[0m_url\u001b[0m\u001b[1;33m,\u001b[0m \u001b[0mpath\u001b[0m\u001b[1;33m)\u001b[0m\u001b[1;33m\u001b[0m\u001b[1;33m\u001b[0m\u001b[0m\n\u001b[1;32m--> 374\u001b[1;33m         \u001b[1;32mreturn\u001b[0m \u001b[0mself\u001b[0m\u001b[1;33m.\u001b[0m\u001b[0m_request\u001b[0m\u001b[1;33m(\u001b[0m\u001b[0mcommand_info\u001b[0m\u001b[1;33m[\u001b[0m\u001b[1;36m0\u001b[0m\u001b[1;33m]\u001b[0m\u001b[1;33m,\u001b[0m \u001b[0murl\u001b[0m\u001b[1;33m,\u001b[0m \u001b[0mbody\u001b[0m\u001b[1;33m=\u001b[0m\u001b[0mdata\u001b[0m\u001b[1;33m)\u001b[0m\u001b[1;33m\u001b[0m\u001b[1;33m\u001b[0m\u001b[0m\n\u001b[0m\u001b[0;32m    375\u001b[0m \u001b[1;33m\u001b[0m\u001b[0m\n\u001b[0;32m    376\u001b[0m     \u001b[1;32mdef\u001b[0m \u001b[0m_request\u001b[0m\u001b[1;33m(\u001b[0m\u001b[0mself\u001b[0m\u001b[1;33m,\u001b[0m \u001b[0mmethod\u001b[0m\u001b[1;33m,\u001b[0m \u001b[0murl\u001b[0m\u001b[1;33m,\u001b[0m \u001b[0mbody\u001b[0m\u001b[1;33m=\u001b[0m\u001b[1;32mNone\u001b[0m\u001b[1;33m)\u001b[0m\u001b[1;33m:\u001b[0m\u001b[1;33m\u001b[0m\u001b[1;33m\u001b[0m\u001b[0m\n",
      "\u001b[1;32m~\\Anaconda3\\lib\\site-packages\\selenium\\webdriver\\remote\\remote_connection.py\u001b[0m in \u001b[0;36m_request\u001b[1;34m(self, method, url, body)\u001b[0m\n\u001b[0;32m    395\u001b[0m \u001b[1;33m\u001b[0m\u001b[0m\n\u001b[0;32m    396\u001b[0m         \u001b[1;32mif\u001b[0m \u001b[0mself\u001b[0m\u001b[1;33m.\u001b[0m\u001b[0mkeep_alive\u001b[0m\u001b[1;33m:\u001b[0m\u001b[1;33m\u001b[0m\u001b[1;33m\u001b[0m\u001b[0m\n\u001b[1;32m--> 397\u001b[1;33m             \u001b[0mresp\u001b[0m \u001b[1;33m=\u001b[0m \u001b[0mself\u001b[0m\u001b[1;33m.\u001b[0m\u001b[0m_conn\u001b[0m\u001b[1;33m.\u001b[0m\u001b[0mrequest\u001b[0m\u001b[1;33m(\u001b[0m\u001b[0mmethod\u001b[0m\u001b[1;33m,\u001b[0m \u001b[0murl\u001b[0m\u001b[1;33m,\u001b[0m \u001b[0mbody\u001b[0m\u001b[1;33m=\u001b[0m\u001b[0mbody\u001b[0m\u001b[1;33m,\u001b[0m \u001b[0mheaders\u001b[0m\u001b[1;33m=\u001b[0m\u001b[0mheaders\u001b[0m\u001b[1;33m)\u001b[0m\u001b[1;33m\u001b[0m\u001b[1;33m\u001b[0m\u001b[0m\n\u001b[0m\u001b[0;32m    398\u001b[0m \u001b[1;33m\u001b[0m\u001b[0m\n\u001b[0;32m    399\u001b[0m             \u001b[0mstatuscode\u001b[0m \u001b[1;33m=\u001b[0m \u001b[0mresp\u001b[0m\u001b[1;33m.\u001b[0m\u001b[0mstatus\u001b[0m\u001b[1;33m\u001b[0m\u001b[1;33m\u001b[0m\u001b[0m\n",
      "\u001b[1;32m~\\Anaconda3\\lib\\site-packages\\urllib3\\request.py\u001b[0m in \u001b[0;36mrequest\u001b[1;34m(self, method, url, fields, headers, **urlopen_kw)\u001b[0m\n\u001b[0;32m     70\u001b[0m             return self.request_encode_body(method, url, fields=fields,\n\u001b[0;32m     71\u001b[0m                                             \u001b[0mheaders\u001b[0m\u001b[1;33m=\u001b[0m\u001b[0mheaders\u001b[0m\u001b[1;33m,\u001b[0m\u001b[1;33m\u001b[0m\u001b[1;33m\u001b[0m\u001b[0m\n\u001b[1;32m---> 72\u001b[1;33m                                             **urlopen_kw)\n\u001b[0m\u001b[0;32m     73\u001b[0m \u001b[1;33m\u001b[0m\u001b[0m\n\u001b[0;32m     74\u001b[0m     def request_encode_url(self, method, url, fields=None, headers=None,\n",
      "\u001b[1;32m~\\Anaconda3\\lib\\site-packages\\urllib3\\request.py\u001b[0m in \u001b[0;36mrequest_encode_body\u001b[1;34m(self, method, url, fields, headers, encode_multipart, multipart_boundary, **urlopen_kw)\u001b[0m\n\u001b[0;32m    148\u001b[0m         \u001b[0mextra_kw\u001b[0m\u001b[1;33m.\u001b[0m\u001b[0mupdate\u001b[0m\u001b[1;33m(\u001b[0m\u001b[0murlopen_kw\u001b[0m\u001b[1;33m)\u001b[0m\u001b[1;33m\u001b[0m\u001b[1;33m\u001b[0m\u001b[0m\n\u001b[0;32m    149\u001b[0m \u001b[1;33m\u001b[0m\u001b[0m\n\u001b[1;32m--> 150\u001b[1;33m         \u001b[1;32mreturn\u001b[0m \u001b[0mself\u001b[0m\u001b[1;33m.\u001b[0m\u001b[0murlopen\u001b[0m\u001b[1;33m(\u001b[0m\u001b[0mmethod\u001b[0m\u001b[1;33m,\u001b[0m \u001b[0murl\u001b[0m\u001b[1;33m,\u001b[0m \u001b[1;33m**\u001b[0m\u001b[0mextra_kw\u001b[0m\u001b[1;33m)\u001b[0m\u001b[1;33m\u001b[0m\u001b[1;33m\u001b[0m\u001b[0m\n\u001b[0m",
      "\u001b[1;32m~\\Anaconda3\\lib\\site-packages\\urllib3\\poolmanager.py\u001b[0m in \u001b[0;36murlopen\u001b[1;34m(self, method, url, redirect, **kw)\u001b[0m\n\u001b[0;32m    322\u001b[0m             \u001b[0mresponse\u001b[0m \u001b[1;33m=\u001b[0m \u001b[0mconn\u001b[0m\u001b[1;33m.\u001b[0m\u001b[0murlopen\u001b[0m\u001b[1;33m(\u001b[0m\u001b[0mmethod\u001b[0m\u001b[1;33m,\u001b[0m \u001b[0murl\u001b[0m\u001b[1;33m,\u001b[0m \u001b[1;33m**\u001b[0m\u001b[0mkw\u001b[0m\u001b[1;33m)\u001b[0m\u001b[1;33m\u001b[0m\u001b[1;33m\u001b[0m\u001b[0m\n\u001b[0;32m    323\u001b[0m         \u001b[1;32melse\u001b[0m\u001b[1;33m:\u001b[0m\u001b[1;33m\u001b[0m\u001b[1;33m\u001b[0m\u001b[0m\n\u001b[1;32m--> 324\u001b[1;33m             \u001b[0mresponse\u001b[0m \u001b[1;33m=\u001b[0m \u001b[0mconn\u001b[0m\u001b[1;33m.\u001b[0m\u001b[0murlopen\u001b[0m\u001b[1;33m(\u001b[0m\u001b[0mmethod\u001b[0m\u001b[1;33m,\u001b[0m \u001b[0mu\u001b[0m\u001b[1;33m.\u001b[0m\u001b[0mrequest_uri\u001b[0m\u001b[1;33m,\u001b[0m \u001b[1;33m**\u001b[0m\u001b[0mkw\u001b[0m\u001b[1;33m)\u001b[0m\u001b[1;33m\u001b[0m\u001b[1;33m\u001b[0m\u001b[0m\n\u001b[0m\u001b[0;32m    325\u001b[0m \u001b[1;33m\u001b[0m\u001b[0m\n\u001b[0;32m    326\u001b[0m         \u001b[0mredirect_location\u001b[0m \u001b[1;33m=\u001b[0m \u001b[0mredirect\u001b[0m \u001b[1;32mand\u001b[0m \u001b[0mresponse\u001b[0m\u001b[1;33m.\u001b[0m\u001b[0mget_redirect_location\u001b[0m\u001b[1;33m(\u001b[0m\u001b[1;33m)\u001b[0m\u001b[1;33m\u001b[0m\u001b[1;33m\u001b[0m\u001b[0m\n",
      "\u001b[1;32m~\\Anaconda3\\lib\\site-packages\\urllib3\\connectionpool.py\u001b[0m in \u001b[0;36murlopen\u001b[1;34m(self, method, url, body, headers, retries, redirect, assert_same_host, timeout, pool_timeout, release_conn, chunked, body_pos, **response_kw)\u001b[0m\n\u001b[0;32m    598\u001b[0m                                                   \u001b[0mtimeout\u001b[0m\u001b[1;33m=\u001b[0m\u001b[0mtimeout_obj\u001b[0m\u001b[1;33m,\u001b[0m\u001b[1;33m\u001b[0m\u001b[1;33m\u001b[0m\u001b[0m\n\u001b[0;32m    599\u001b[0m                                                   \u001b[0mbody\u001b[0m\u001b[1;33m=\u001b[0m\u001b[0mbody\u001b[0m\u001b[1;33m,\u001b[0m \u001b[0mheaders\u001b[0m\u001b[1;33m=\u001b[0m\u001b[0mheaders\u001b[0m\u001b[1;33m,\u001b[0m\u001b[1;33m\u001b[0m\u001b[1;33m\u001b[0m\u001b[0m\n\u001b[1;32m--> 600\u001b[1;33m                                                   chunked=chunked)\n\u001b[0m\u001b[0;32m    601\u001b[0m \u001b[1;33m\u001b[0m\u001b[0m\n\u001b[0;32m    602\u001b[0m             \u001b[1;31m# If we're going to release the connection in ``finally:``, then\u001b[0m\u001b[1;33m\u001b[0m\u001b[1;33m\u001b[0m\u001b[1;33m\u001b[0m\u001b[0m\n",
      "\u001b[1;32m~\\Anaconda3\\lib\\site-packages\\urllib3\\connectionpool.py\u001b[0m in \u001b[0;36m_make_request\u001b[1;34m(self, conn, method, url, timeout, chunked, **httplib_request_kw)\u001b[0m\n\u001b[0;32m    378\u001b[0m             \u001b[1;32mexcept\u001b[0m \u001b[0mTypeError\u001b[0m\u001b[1;33m:\u001b[0m  \u001b[1;31m# Python 3\u001b[0m\u001b[1;33m\u001b[0m\u001b[1;33m\u001b[0m\u001b[0m\n\u001b[0;32m    379\u001b[0m                 \u001b[1;32mtry\u001b[0m\u001b[1;33m:\u001b[0m\u001b[1;33m\u001b[0m\u001b[1;33m\u001b[0m\u001b[0m\n\u001b[1;32m--> 380\u001b[1;33m                     \u001b[0mhttplib_response\u001b[0m \u001b[1;33m=\u001b[0m \u001b[0mconn\u001b[0m\u001b[1;33m.\u001b[0m\u001b[0mgetresponse\u001b[0m\u001b[1;33m(\u001b[0m\u001b[1;33m)\u001b[0m\u001b[1;33m\u001b[0m\u001b[1;33m\u001b[0m\u001b[0m\n\u001b[0m\u001b[0;32m    381\u001b[0m                 \u001b[1;32mexcept\u001b[0m \u001b[0mException\u001b[0m \u001b[1;32mas\u001b[0m \u001b[0me\u001b[0m\u001b[1;33m:\u001b[0m\u001b[1;33m\u001b[0m\u001b[1;33m\u001b[0m\u001b[0m\n\u001b[0;32m    382\u001b[0m                     \u001b[1;31m# Remove the TypeError from the exception chain in Python 3;\u001b[0m\u001b[1;33m\u001b[0m\u001b[1;33m\u001b[0m\u001b[1;33m\u001b[0m\u001b[0m\n",
      "\u001b[1;32m~\\Anaconda3\\lib\\http\\client.py\u001b[0m in \u001b[0;36mgetresponse\u001b[1;34m(self)\u001b[0m\n\u001b[0;32m   1334\u001b[0m         \u001b[1;32mtry\u001b[0m\u001b[1;33m:\u001b[0m\u001b[1;33m\u001b[0m\u001b[1;33m\u001b[0m\u001b[0m\n\u001b[0;32m   1335\u001b[0m             \u001b[1;32mtry\u001b[0m\u001b[1;33m:\u001b[0m\u001b[1;33m\u001b[0m\u001b[1;33m\u001b[0m\u001b[0m\n\u001b[1;32m-> 1336\u001b[1;33m                 \u001b[0mresponse\u001b[0m\u001b[1;33m.\u001b[0m\u001b[0mbegin\u001b[0m\u001b[1;33m(\u001b[0m\u001b[1;33m)\u001b[0m\u001b[1;33m\u001b[0m\u001b[1;33m\u001b[0m\u001b[0m\n\u001b[0m\u001b[0;32m   1337\u001b[0m             \u001b[1;32mexcept\u001b[0m \u001b[0mConnectionError\u001b[0m\u001b[1;33m:\u001b[0m\u001b[1;33m\u001b[0m\u001b[1;33m\u001b[0m\u001b[0m\n\u001b[0;32m   1338\u001b[0m                 \u001b[0mself\u001b[0m\u001b[1;33m.\u001b[0m\u001b[0mclose\u001b[0m\u001b[1;33m(\u001b[0m\u001b[1;33m)\u001b[0m\u001b[1;33m\u001b[0m\u001b[1;33m\u001b[0m\u001b[0m\n",
      "\u001b[1;32m~\\Anaconda3\\lib\\http\\client.py\u001b[0m in \u001b[0;36mbegin\u001b[1;34m(self)\u001b[0m\n\u001b[0;32m    304\u001b[0m         \u001b[1;31m# read until we get a non-100 response\u001b[0m\u001b[1;33m\u001b[0m\u001b[1;33m\u001b[0m\u001b[1;33m\u001b[0m\u001b[0m\n\u001b[0;32m    305\u001b[0m         \u001b[1;32mwhile\u001b[0m \u001b[1;32mTrue\u001b[0m\u001b[1;33m:\u001b[0m\u001b[1;33m\u001b[0m\u001b[1;33m\u001b[0m\u001b[0m\n\u001b[1;32m--> 306\u001b[1;33m             \u001b[0mversion\u001b[0m\u001b[1;33m,\u001b[0m \u001b[0mstatus\u001b[0m\u001b[1;33m,\u001b[0m \u001b[0mreason\u001b[0m \u001b[1;33m=\u001b[0m \u001b[0mself\u001b[0m\u001b[1;33m.\u001b[0m\u001b[0m_read_status\u001b[0m\u001b[1;33m(\u001b[0m\u001b[1;33m)\u001b[0m\u001b[1;33m\u001b[0m\u001b[1;33m\u001b[0m\u001b[0m\n\u001b[0m\u001b[0;32m    307\u001b[0m             \u001b[1;32mif\u001b[0m \u001b[0mstatus\u001b[0m \u001b[1;33m!=\u001b[0m \u001b[0mCONTINUE\u001b[0m\u001b[1;33m:\u001b[0m\u001b[1;33m\u001b[0m\u001b[1;33m\u001b[0m\u001b[0m\n\u001b[0;32m    308\u001b[0m                 \u001b[1;32mbreak\u001b[0m\u001b[1;33m\u001b[0m\u001b[1;33m\u001b[0m\u001b[0m\n",
      "\u001b[1;32m~\\Anaconda3\\lib\\http\\client.py\u001b[0m in \u001b[0;36m_read_status\u001b[1;34m(self)\u001b[0m\n\u001b[0;32m    265\u001b[0m \u001b[1;33m\u001b[0m\u001b[0m\n\u001b[0;32m    266\u001b[0m     \u001b[1;32mdef\u001b[0m \u001b[0m_read_status\u001b[0m\u001b[1;33m(\u001b[0m\u001b[0mself\u001b[0m\u001b[1;33m)\u001b[0m\u001b[1;33m:\u001b[0m\u001b[1;33m\u001b[0m\u001b[1;33m\u001b[0m\u001b[0m\n\u001b[1;32m--> 267\u001b[1;33m         \u001b[0mline\u001b[0m \u001b[1;33m=\u001b[0m \u001b[0mstr\u001b[0m\u001b[1;33m(\u001b[0m\u001b[0mself\u001b[0m\u001b[1;33m.\u001b[0m\u001b[0mfp\u001b[0m\u001b[1;33m.\u001b[0m\u001b[0mreadline\u001b[0m\u001b[1;33m(\u001b[0m\u001b[0m_MAXLINE\u001b[0m \u001b[1;33m+\u001b[0m \u001b[1;36m1\u001b[0m\u001b[1;33m)\u001b[0m\u001b[1;33m,\u001b[0m \u001b[1;34m\"iso-8859-1\"\u001b[0m\u001b[1;33m)\u001b[0m\u001b[1;33m\u001b[0m\u001b[1;33m\u001b[0m\u001b[0m\n\u001b[0m\u001b[0;32m    268\u001b[0m         \u001b[1;32mif\u001b[0m \u001b[0mlen\u001b[0m\u001b[1;33m(\u001b[0m\u001b[0mline\u001b[0m\u001b[1;33m)\u001b[0m \u001b[1;33m>\u001b[0m \u001b[0m_MAXLINE\u001b[0m\u001b[1;33m:\u001b[0m\u001b[1;33m\u001b[0m\u001b[1;33m\u001b[0m\u001b[0m\n\u001b[0;32m    269\u001b[0m             \u001b[1;32mraise\u001b[0m \u001b[0mLineTooLong\u001b[0m\u001b[1;33m(\u001b[0m\u001b[1;34m\"status line\"\u001b[0m\u001b[1;33m)\u001b[0m\u001b[1;33m\u001b[0m\u001b[1;33m\u001b[0m\u001b[0m\n",
      "\u001b[1;32m~\\Anaconda3\\lib\\socket.py\u001b[0m in \u001b[0;36mreadinto\u001b[1;34m(self, b)\u001b[0m\n\u001b[0;32m    587\u001b[0m         \u001b[1;32mwhile\u001b[0m \u001b[1;32mTrue\u001b[0m\u001b[1;33m:\u001b[0m\u001b[1;33m\u001b[0m\u001b[1;33m\u001b[0m\u001b[0m\n\u001b[0;32m    588\u001b[0m             \u001b[1;32mtry\u001b[0m\u001b[1;33m:\u001b[0m\u001b[1;33m\u001b[0m\u001b[1;33m\u001b[0m\u001b[0m\n\u001b[1;32m--> 589\u001b[1;33m                 \u001b[1;32mreturn\u001b[0m \u001b[0mself\u001b[0m\u001b[1;33m.\u001b[0m\u001b[0m_sock\u001b[0m\u001b[1;33m.\u001b[0m\u001b[0mrecv_into\u001b[0m\u001b[1;33m(\u001b[0m\u001b[0mb\u001b[0m\u001b[1;33m)\u001b[0m\u001b[1;33m\u001b[0m\u001b[1;33m\u001b[0m\u001b[0m\n\u001b[0m\u001b[0;32m    590\u001b[0m             \u001b[1;32mexcept\u001b[0m \u001b[0mtimeout\u001b[0m\u001b[1;33m:\u001b[0m\u001b[1;33m\u001b[0m\u001b[1;33m\u001b[0m\u001b[0m\n\u001b[0;32m    591\u001b[0m                 \u001b[0mself\u001b[0m\u001b[1;33m.\u001b[0m\u001b[0m_timeout_occurred\u001b[0m \u001b[1;33m=\u001b[0m \u001b[1;32mTrue\u001b[0m\u001b[1;33m\u001b[0m\u001b[1;33m\u001b[0m\u001b[0m\n",
      "\u001b[1;31mKeyboardInterrupt\u001b[0m: "
     ]
    }
   ],
   "source": [
    "root = 'https://academic.oup.com/gigascience/search-results?sort=Date+%e2%80%93+Newest+First&f_ContentType=Journal+Article&fl_SiteID=5589&rg_ArticleDate=01%2f01%2f1666+TO+12%2f31%2f2019&page='\n",
    "\n",
    "for i in range(1, 35):   #34페이지까지 있음\n",
    "    driver.get(root + str(1))\n",
    "    articles = driver.find_elements_by_class_name('article-link')\n",
    "    article_urls = [article.get_attribute('href') for article in articles]\n",
    "    for url in article_urls:\n",
    "        driver.get(url)\n",
    "        authors = driver.find_elements_by_class_name('al-author-name-more')\n",
    "        for name in authors:\n",
    "            email_button = driver.find_element_by_class_name('icon-general-mail')\n",
    "            if not not email_button:\n",
    "                name.click()\n",
    "                author = name.text.split('\\n')[0]\n",
    "                email = driver.find_element_by_class_name('info-author-correspondence').find_element_by_css_selector('a').text\n",
    "                citation = driver.find_element_by_class_name('ww-citation-primary').text\n",
    "                year = citation.split(', ')[3].split()[-1]\n",
    "                volume = citation.split(', ')[1].split()[-1]\n",
    "                df = df.append({'Platform': 'GigaScience', 'Year': year, 'Volume': volume, 'Author': author, 'Email': email, 'URL': url})\n",
    "        \n",
    "print('finished')"
   ]
  },
  {
   "cell_type": "code",
   "execution_count": 17,
   "metadata": {},
   "outputs": [
    {
     "name": "stdout",
     "output_type": "stream",
     "text": [
      "finished\n"
     ]
    }
   ],
   "source": [
    "df = pd.DataFrame(columns = ['Platform', 'Year', 'Volume', 'Author', 'Email', 'URL'])\n",
    "\n",
    "driver = webdriver.Chrome('../chromedriver.exe')\n",
    "wait = WebDriverWait(driver, 10)\n",
    "\n",
    "root = 'https://academic.oup.com/gigascience/search-results?sort=Date+%e2%80%93+Newest+First&f_ContentType=Journal+Article&fl_SiteID=5589&rg_ArticleDate=01%2f01%2f1666+TO+12%2f31%2f2019&page='\n",
    "\n",
    "for i in range(1, 35):   #34페이지까지 있음\n",
    "    driver.get(root + str(1))\n",
    "    articles = driver.find_elements_by_class_name('article-link')\n",
    "    article_urls = [article.get_attribute('href') for article in articles]\n",
    "    for url in article_urls:\n",
    "        driver.get(url)\n",
    "        try:\n",
    "            authors = driver.find_elements_by_class_name('al-author-name-more')\n",
    "            for name in authors:\n",
    "                email_button = driver.find_element_by_class_name('icon-general-mail')\n",
    "                if not not email_button:\n",
    "                    name.click()\n",
    "                    author = name.text.split('\\n')[0]\n",
    "                    email = driver.find_element_by_class_name('info-author-correspondence').find_element_by_css_selector('a').text\n",
    "                    citation = driver.find_element_by_class_name('ww-citation-primary').text\n",
    "                    year = citation.split(', ')[3].split()[-1]\n",
    "                    volume = citation.split(', ')[1].split()[-1]\n",
    "                    df = df.append({'Platform': 'GigaScience', 'Year': year, 'Volume': volume, 'Author': author, 'Email': email, 'URL': url})\n",
    "        except:\n",
    "            pass\n",
    "        \n",
    "print('finished')"
   ]
  },
  {
   "cell_type": "code",
   "execution_count": 40,
   "metadata": {
    "ExecuteTime": {
     "end_time": "2020-02-10T02:35:13.262353Z",
     "start_time": "2020-02-10T02:35:13.255313Z"
    }
   },
   "outputs": [
    {
     "data": {
      "text/html": [
       "<div>\n",
       "<style scoped>\n",
       "    .dataframe tbody tr th:only-of-type {\n",
       "        vertical-align: middle;\n",
       "    }\n",
       "\n",
       "    .dataframe tbody tr th {\n",
       "        vertical-align: top;\n",
       "    }\n",
       "\n",
       "    .dataframe thead th {\n",
       "        text-align: right;\n",
       "    }\n",
       "</style>\n",
       "<table border=\"1\" class=\"dataframe\">\n",
       "  <thead>\n",
       "    <tr style=\"text-align: right;\">\n",
       "      <th></th>\n",
       "      <th>Platform</th>\n",
       "      <th>Year</th>\n",
       "      <th>Volume</th>\n",
       "      <th>Author</th>\n",
       "      <th>Email</th>\n",
       "      <th>URL</th>\n",
       "    </tr>\n",
       "  </thead>\n",
       "  <tbody>\n",
       "  </tbody>\n",
       "</table>\n",
       "</div>"
      ],
      "text/plain": [
       "Empty DataFrame\n",
       "Columns: [Platform, Year, Volume, Author, Email, URL]\n",
       "Index: []"
      ]
     },
     "execution_count": 40,
     "metadata": {},
     "output_type": "execute_result"
    }
   ],
   "source": [
    "df"
   ]
  },
  {
   "cell_type": "code",
   "execution_count": 13,
   "metadata": {
    "ExecuteTime": {
     "end_time": "2020-02-10T02:17:58.178509Z",
     "start_time": "2020-02-10T02:17:58.151627Z"
    }
   },
   "outputs": [
    {
     "data": {
      "text/plain": [
       "'Yuanfang Guan\\nDepartment of Computational Medicine and Bioinformatics, University of Michigan, 100 Washtenaw Avenue, Ann Arbor, MI 48109, USA\\nDepartment of Internal Medicine, Nephrology Division, University of Michigan, 1150 West Medical Center Drive, Ann Arbor, MI 48109, USA\\nCorrespondence address. Yuanfang Guan, 2044 Palmer Commons, 100 Washtenaw Ave, Ann Arbor, MI 48109, USA. Tel: +734-764-0018; E-mail: gyuanfan@umich.edu\\n  http://orcid.org/0000-0001-8275-2852\\nSearch for other works by this author on:\\nOxford Academic Google Scholar\\nYuanfang Guan'"
      ]
     },
     "execution_count": 13,
     "metadata": {},
     "output_type": "execute_result"
    }
   ],
   "source": [
    "author.text"
   ]
  },
  {
   "cell_type": "code",
   "execution_count": 23,
   "metadata": {
    "ExecuteTime": {
     "end_time": "2020-02-10T02:20:11.795812Z",
     "start_time": "2020-02-10T02:20:11.759879Z"
    }
   },
   "outputs": [
    {
     "data": {
      "text/plain": [
       "'gyuanfan@umich.edu'"
      ]
     },
     "execution_count": 23,
     "metadata": {},
     "output_type": "execute_result"
    }
   ],
   "source": [
    "driver.find_element_by_class_name('info-author-correspondence').find_element_by_css_selector('a').text"
   ]
  },
  {
   "cell_type": "code",
   "execution_count": 41,
   "metadata": {},
   "outputs": [],
   "source": [
    "df.to_csv('Data_in_Brief~vol9.csv', encoding = 'utf-8')"
   ]
  },
  {
   "cell_type": "markdown",
   "metadata": {},
   "source": [
    "# 크롤링 2차(vol 9 끝내기)"
   ]
  },
  {
   "cell_type": "code",
   "execution_count": 4,
   "metadata": {
    "ExecuteTime": {
     "end_time": "2020-02-09T23:53:50.316228Z",
     "start_time": "2020-02-09T23:53:50.297392Z"
    }
   },
   "outputs": [],
   "source": [
    "df = pd.read_csv('../csv/Data_in_Brief~vol9.txt', encoding = 'utf-8')"
   ]
  },
  {
   "cell_type": "code",
   "execution_count": 6,
   "metadata": {
    "ExecuteTime": {
     "end_time": "2020-02-09T23:54:12.615781Z",
     "start_time": "2020-02-09T23:54:12.610811Z"
    }
   },
   "outputs": [],
   "source": [
    "df.drop(columns = 'Unnamed: 0', inplace = True)"
   ]
  },
  {
   "cell_type": "code",
   "execution_count": 15,
   "metadata": {
    "ExecuteTime": {
     "end_time": "2020-02-09T23:54:59.204952Z",
     "start_time": "2020-02-09T23:54:59.189371Z"
    }
   },
   "outputs": [
    {
     "name": "stdout",
     "output_type": "stream",
     "text": [
      "https://www.sciencedirect.com/science/article/pii/S2352340916305819\n"
     ]
    }
   ],
   "source": [
    "print(df.URL.iloc[821])"
   ]
  },
  {
   "cell_type": "code",
   "execution_count": 17,
   "metadata": {
    "ExecuteTime": {
     "end_time": "2020-02-09T23:56:43.021454Z",
     "start_time": "2020-02-09T23:56:43.010429Z"
    }
   },
   "outputs": [
    {
     "data": {
      "text/html": [
       "<div>\n",
       "<style scoped>\n",
       "    .dataframe tbody tr th:only-of-type {\n",
       "        vertical-align: middle;\n",
       "    }\n",
       "\n",
       "    .dataframe tbody tr th {\n",
       "        vertical-align: top;\n",
       "    }\n",
       "\n",
       "    .dataframe thead th {\n",
       "        text-align: right;\n",
       "    }\n",
       "</style>\n",
       "<table border=\"1\" class=\"dataframe\">\n",
       "  <thead>\n",
       "    <tr style=\"text-align: right;\">\n",
       "      <th></th>\n",
       "      <th>Platform</th>\n",
       "      <th>Year</th>\n",
       "      <th>Volume</th>\n",
       "      <th>Author</th>\n",
       "      <th>Email</th>\n",
       "      <th>URL</th>\n",
       "    </tr>\n",
       "  </thead>\n",
       "  <tbody>\n",
       "    <tr>\n",
       "      <td>748</td>\n",
       "      <td>Data in Brief</td>\n",
       "      <td>2016</td>\n",
       "      <td>9</td>\n",
       "      <td>Anicet Gbèblonoudo Dassou</td>\n",
       "      <td>dassoua@yahoo.fr</td>\n",
       "      <td>https://www.sciencedirect.com/science/article/...</td>\n",
       "    </tr>\n",
       "    <tr>\n",
       "      <td>749</td>\n",
       "      <td>Data in Brief</td>\n",
       "      <td>2016</td>\n",
       "      <td>9</td>\n",
       "      <td>Theo W. Prins</td>\n",
       "      <td>theo.prins@wur.nl</td>\n",
       "      <td>https://www.sciencedirect.com/science/article/...</td>\n",
       "    </tr>\n",
       "    <tr>\n",
       "      <td>750</td>\n",
       "      <td>Data in Brief</td>\n",
       "      <td>2016</td>\n",
       "      <td>9</td>\n",
       "      <td>Carmen A. Campos</td>\n",
       "      <td>carmen@di.fcen.uba.ar</td>\n",
       "      <td>https://www.sciencedirect.com/science/article/...</td>\n",
       "    </tr>\n",
       "    <tr>\n",
       "      <td>751</td>\n",
       "      <td>Data in Brief</td>\n",
       "      <td>2016</td>\n",
       "      <td>9</td>\n",
       "      <td>Radha Cheruppanpullil</td>\n",
       "      <td>radha@cftri.res.in</td>\n",
       "      <td>https://www.sciencedirect.com/science/article/...</td>\n",
       "    </tr>\n",
       "    <tr>\n",
       "      <td>752</td>\n",
       "      <td>Data in Brief</td>\n",
       "      <td>2016</td>\n",
       "      <td>9</td>\n",
       "      <td>Fafu Shen</td>\n",
       "      <td>ffshen@sdau.edu.cn</td>\n",
       "      <td>https://www.sciencedirect.com/science/article/...</td>\n",
       "    </tr>\n",
       "    <tr>\n",
       "      <td>...</td>\n",
       "      <td>...</td>\n",
       "      <td>...</td>\n",
       "      <td>...</td>\n",
       "      <td>...</td>\n",
       "      <td>...</td>\n",
       "      <td>...</td>\n",
       "    </tr>\n",
       "    <tr>\n",
       "      <td>817</td>\n",
       "      <td>Data in Brief</td>\n",
       "      <td>2016</td>\n",
       "      <td>9</td>\n",
       "      <td>Payam Nejat</td>\n",
       "      <td>payam.nejaat@gmail.com</td>\n",
       "      <td>https://www.sciencedirect.com/science/article/...</td>\n",
       "    </tr>\n",
       "    <tr>\n",
       "      <td>818</td>\n",
       "      <td>Data in Brief</td>\n",
       "      <td>2016</td>\n",
       "      <td>9</td>\n",
       "      <td>John Kaiser Calautit</td>\n",
       "      <td>J.Calautit@sheffield.ac.uk</td>\n",
       "      <td>https://www.sciencedirect.com/science/article/...</td>\n",
       "    </tr>\n",
       "    <tr>\n",
       "      <td>819</td>\n",
       "      <td>Data in Brief</td>\n",
       "      <td>2016</td>\n",
       "      <td>9</td>\n",
       "      <td>Sina Dobaradaran</td>\n",
       "      <td>s.dobaradaran@bpums.ac.ir</td>\n",
       "      <td>https://www.sciencedirect.com/science/article/...</td>\n",
       "    </tr>\n",
       "    <tr>\n",
       "      <td>820</td>\n",
       "      <td>Data in Brief</td>\n",
       "      <td>2016</td>\n",
       "      <td>9</td>\n",
       "      <td>Muhd Zaimi Abd. Majid</td>\n",
       "      <td>mzaimi@utm.my</td>\n",
       "      <td>https://www.sciencedirect.com/science/article/...</td>\n",
       "    </tr>\n",
       "    <tr>\n",
       "      <td>821</td>\n",
       "      <td>Data in Brief</td>\n",
       "      <td>2016</td>\n",
       "      <td>9</td>\n",
       "      <td>John H.R.</td>\n",
       "      <td>johnhr@hawaii.edu</td>\n",
       "      <td>https://www.sciencedirect.com/science/article/...</td>\n",
       "    </tr>\n",
       "  </tbody>\n",
       "</table>\n",
       "<p>74 rows × 6 columns</p>\n",
       "</div>"
      ],
      "text/plain": [
       "          Platform  Year  Volume                     Author  \\\n",
       "748  Data in Brief  2016       9  Anicet Gbèblonoudo Dassou   \n",
       "749  Data in Brief  2016       9              Theo W. Prins   \n",
       "750  Data in Brief  2016       9           Carmen A. Campos   \n",
       "751  Data in Brief  2016       9      Radha Cheruppanpullil   \n",
       "752  Data in Brief  2016       9                  Fafu Shen   \n",
       "..             ...   ...     ...                        ...   \n",
       "817  Data in Brief  2016       9                Payam Nejat   \n",
       "818  Data in Brief  2016       9       John Kaiser Calautit   \n",
       "819  Data in Brief  2016       9           Sina Dobaradaran   \n",
       "820  Data in Brief  2016       9      Muhd Zaimi Abd. Majid   \n",
       "821  Data in Brief  2016       9                  John H.R.   \n",
       "\n",
       "                          Email  \\\n",
       "748            dassoua@yahoo.fr   \n",
       "749           theo.prins@wur.nl   \n",
       "750       carmen@di.fcen.uba.ar   \n",
       "751          radha@cftri.res.in   \n",
       "752          ffshen@sdau.edu.cn   \n",
       "..                          ...   \n",
       "817      payam.nejaat@gmail.com   \n",
       "818  J.Calautit@sheffield.ac.uk   \n",
       "819   s.dobaradaran@bpums.ac.ir   \n",
       "820               mzaimi@utm.my   \n",
       "821           johnhr@hawaii.edu   \n",
       "\n",
       "                                                   URL  \n",
       "748  https://www.sciencedirect.com/science/article/...  \n",
       "749  https://www.sciencedirect.com/science/article/...  \n",
       "750  https://www.sciencedirect.com/science/article/...  \n",
       "751  https://www.sciencedirect.com/science/article/...  \n",
       "752  https://www.sciencedirect.com/science/article/...  \n",
       "..                                                 ...  \n",
       "817  https://www.sciencedirect.com/science/article/...  \n",
       "818  https://www.sciencedirect.com/science/article/...  \n",
       "819  https://www.sciencedirect.com/science/article/...  \n",
       "820  https://www.sciencedirect.com/science/article/...  \n",
       "821  https://www.sciencedirect.com/science/article/...  \n",
       "\n",
       "[74 rows x 6 columns]"
      ]
     },
     "execution_count": 17,
     "metadata": {},
     "output_type": "execute_result"
    }
   ],
   "source": [
    "df[df.Volume == 9]"
   ]
  },
  {
   "cell_type": "code",
   "execution_count": 21,
   "metadata": {
    "ExecuteTime": {
     "end_time": "2020-02-10T00:01:23.802118Z",
     "start_time": "2020-02-10T00:01:15.098982Z"
    }
   },
   "outputs": [],
   "source": [
    "driver = webdriver.Chrome('../chromedriver.exe')\n",
    "\n",
    "driver.get('https://www.sciencedirect.com/journal/data-in-brief/vol/9/suppl/C')\n",
    "\n",
    "elem = driver.find_element_by_tag_name(\"body\")\n",
    "elem.send_keys(Keys.PAGE_DOWN)\n",
    "articles = driver.find_elements_by_class_name('anchor.article-content-title.u-margin-xs-top.u-margin-s-bottom')\n",
    "article_url = [article.get_attribute('href') for article in articles]"
   ]
  },
  {
   "cell_type": "code",
   "execution_count": 24,
   "metadata": {
    "ExecuteTime": {
     "end_time": "2020-02-10T00:02:39.316816Z",
     "start_time": "2020-02-10T00:02:39.313818Z"
    }
   },
   "outputs": [],
   "source": [
    "wait = WebDriverWait(driver, 10)"
   ]
  },
  {
   "cell_type": "code",
   "execution_count": 26,
   "metadata": {
    "ExecuteTime": {
     "end_time": "2020-02-10T00:03:41.648245Z",
     "start_time": "2020-02-10T00:02:55.218566Z"
    }
   },
   "outputs": [
    {
     "name": "stdout",
     "output_type": "stream",
     "text": [
      "volume 9 finished\n"
     ]
    }
   ],
   "source": [
    "for k in range(62, len(article_url)):\n",
    "    driver.get(article_url[k])\n",
    "    view_more = driver.find_elements_by_class_name('author.size-m.workspace-trigger')\n",
    "    if len(view_more) != 0:\n",
    "        for item in view_more:\n",
    "            envelope = item.find_elements_by_class_name('icon.icon-envelope')\n",
    "            if not not envelope:\n",
    "                item.click()\n",
    "#               wait.until(EC.presence_of_element_located((By.CLASS_NAME, 'WorkspaceAuthor.text-s')))\n",
    "#               wait.until(EC.presence_of_element_located((By.CLASS_NAME, 'e-address')))\n",
    "                author = driver.find_element_by_class_name('WorkspaceAuthor.text-s').find_element_by_class_name('author').text\n",
    "                email = driver.find_element_by_class_name('e-address').text\n",
    "                year = driver.find_element_by_class_name('text-xs').text.split()[3].replace(',', '')\n",
    "                df = df.append({'Platform': 'Data in Brief', 'Year': year, 'Volume': 9, 'Author': author, 'Email': email, 'URL': article_url[k] }, ignore_index=True)\n",
    "#               wait.until(EC.element_to_be_clickable((By.CLASS_NAME, 'icon.icon-cross')))\n",
    "                elem = driver.find_element_by_tag_name(\"body\")\n",
    "                elem.send_keys(Keys.RETURN)\n",
    "print('volume 9 finished')"
   ]
  },
  {
   "cell_type": "code",
   "execution_count": 27,
   "metadata": {
    "ExecuteTime": {
     "end_time": "2020-02-10T00:03:47.278302Z",
     "start_time": "2020-02-10T00:03:47.257483Z"
    }
   },
   "outputs": [
    {
     "data": {
      "text/html": [
       "<div>\n",
       "<style scoped>\n",
       "    .dataframe tbody tr th:only-of-type {\n",
       "        vertical-align: middle;\n",
       "    }\n",
       "\n",
       "    .dataframe tbody tr th {\n",
       "        vertical-align: top;\n",
       "    }\n",
       "\n",
       "    .dataframe thead th {\n",
       "        text-align: right;\n",
       "    }\n",
       "</style>\n",
       "<table border=\"1\" class=\"dataframe\">\n",
       "  <thead>\n",
       "    <tr style=\"text-align: right;\">\n",
       "      <th></th>\n",
       "      <th>Platform</th>\n",
       "      <th>Year</th>\n",
       "      <th>Volume</th>\n",
       "      <th>Author</th>\n",
       "      <th>Email</th>\n",
       "      <th>URL</th>\n",
       "    </tr>\n",
       "  </thead>\n",
       "  <tbody>\n",
       "    <tr>\n",
       "      <td>0</td>\n",
       "      <td>Data in Brief</td>\n",
       "      <td>2014</td>\n",
       "      <td>1</td>\n",
       "      <td>Hao-Ran Wang Ph.D.</td>\n",
       "      <td>hao-ran.wang@novartis.com</td>\n",
       "      <td>https://www.sciencedirect.com/science/article/...</td>\n",
       "    </tr>\n",
       "    <tr>\n",
       "      <td>1</td>\n",
       "      <td>Data in Brief</td>\n",
       "      <td>2014</td>\n",
       "      <td>1</td>\n",
       "      <td>Fan-Tso Chien</td>\n",
       "      <td>fantso@phys.sinica.edu.tw</td>\n",
       "      <td>https://www.sciencedirect.com/science/article/...</td>\n",
       "    </tr>\n",
       "    <tr>\n",
       "      <td>2</td>\n",
       "      <td>Data in Brief</td>\n",
       "      <td>2014</td>\n",
       "      <td>1</td>\n",
       "      <td>Jacek R. Wiśniewski</td>\n",
       "      <td>jwisniew@biochem.mpg.de</td>\n",
       "      <td>https://www.sciencedirect.com/science/article/...</td>\n",
       "    </tr>\n",
       "    <tr>\n",
       "      <td>3</td>\n",
       "      <td>Data in Brief</td>\n",
       "      <td>2014</td>\n",
       "      <td>1</td>\n",
       "      <td>Michael W. Gray</td>\n",
       "      <td>m.w.gray@dal.ca</td>\n",
       "      <td>https://www.sciencedirect.com/science/article/...</td>\n",
       "    </tr>\n",
       "    <tr>\n",
       "      <td>4</td>\n",
       "      <td>Data in Brief</td>\n",
       "      <td>2014</td>\n",
       "      <td>1</td>\n",
       "      <td>L.A. de Luna-Valdez</td>\n",
       "      <td>ldeluna@ibt.unam.mx</td>\n",
       "      <td>https://www.sciencedirect.com/science/article/...</td>\n",
       "    </tr>\n",
       "    <tr>\n",
       "      <td>...</td>\n",
       "      <td>...</td>\n",
       "      <td>...</td>\n",
       "      <td>...</td>\n",
       "      <td>...</td>\n",
       "      <td>...</td>\n",
       "      <td>...</td>\n",
       "    </tr>\n",
       "    <tr>\n",
       "      <td>884</td>\n",
       "      <td>Data in Brief</td>\n",
       "      <td>2016</td>\n",
       "      <td>9</td>\n",
       "      <td>Camila A. Figueiredo</td>\n",
       "      <td>cavfigueiredo@gmail.com</td>\n",
       "      <td>https://www.sciencedirect.com/science/article/...</td>\n",
       "    </tr>\n",
       "    <tr>\n",
       "      <td>885</td>\n",
       "      <td>Data in Brief</td>\n",
       "      <td>2016</td>\n",
       "      <td>9</td>\n",
       "      <td>Rita de Cassia Ribeiro</td>\n",
       "      <td>ritaribeiroufba@gmail.com</td>\n",
       "      <td>https://www.sciencedirect.com/science/article/...</td>\n",
       "    </tr>\n",
       "    <tr>\n",
       "      <td>886</td>\n",
       "      <td>Data in Brief</td>\n",
       "      <td>2016</td>\n",
       "      <td>9</td>\n",
       "      <td>Neuza Maria Alcântara-Neves</td>\n",
       "      <td>neuzalcantara@gmail.com</td>\n",
       "      <td>https://www.sciencedirect.com/science/article/...</td>\n",
       "    </tr>\n",
       "    <tr>\n",
       "      <td>887</td>\n",
       "      <td>Data in Brief</td>\n",
       "      <td>2016</td>\n",
       "      <td>9</td>\n",
       "      <td>Barbara Plytycz</td>\n",
       "      <td>barbara.plytycz@uj.edu.pl</td>\n",
       "      <td>https://www.sciencedirect.com/science/article/...</td>\n",
       "    </tr>\n",
       "    <tr>\n",
       "      <td>888</td>\n",
       "      <td>Data in Brief</td>\n",
       "      <td>2016</td>\n",
       "      <td>9</td>\n",
       "      <td>Chitho P. Feliciano</td>\n",
       "      <td>cpfeliciano@pnri.dost.gov.ph</td>\n",
       "      <td>https://www.sciencedirect.com/science/article/...</td>\n",
       "    </tr>\n",
       "  </tbody>\n",
       "</table>\n",
       "<p>889 rows × 6 columns</p>\n",
       "</div>"
      ],
      "text/plain": [
       "          Platform  Year  Volume                       Author  \\\n",
       "0    Data in Brief  2014       1           Hao-Ran Wang Ph.D.   \n",
       "1    Data in Brief  2014       1                Fan-Tso Chien   \n",
       "2    Data in Brief  2014       1          Jacek R. Wiśniewski   \n",
       "3    Data in Brief  2014       1              Michael W. Gray   \n",
       "4    Data in Brief  2014       1          L.A. de Luna-Valdez   \n",
       "..             ...   ...     ...                          ...   \n",
       "884  Data in Brief  2016       9         Camila A. Figueiredo   \n",
       "885  Data in Brief  2016       9       Rita de Cassia Ribeiro   \n",
       "886  Data in Brief  2016       9  Neuza Maria Alcântara-Neves   \n",
       "887  Data in Brief  2016       9              Barbara Plytycz   \n",
       "888  Data in Brief  2016       9          Chitho P. Feliciano   \n",
       "\n",
       "                            Email  \\\n",
       "0       hao-ran.wang@novartis.com   \n",
       "1       fantso@phys.sinica.edu.tw   \n",
       "2         jwisniew@biochem.mpg.de   \n",
       "3                 m.w.gray@dal.ca   \n",
       "4             ldeluna@ibt.unam.mx   \n",
       "..                            ...   \n",
       "884       cavfigueiredo@gmail.com   \n",
       "885     ritaribeiroufba@gmail.com   \n",
       "886       neuzalcantara@gmail.com   \n",
       "887     barbara.plytycz@uj.edu.pl   \n",
       "888  cpfeliciano@pnri.dost.gov.ph   \n",
       "\n",
       "                                                   URL  \n",
       "0    https://www.sciencedirect.com/science/article/...  \n",
       "1    https://www.sciencedirect.com/science/article/...  \n",
       "2    https://www.sciencedirect.com/science/article/...  \n",
       "3    https://www.sciencedirect.com/science/article/...  \n",
       "4    https://www.sciencedirect.com/science/article/...  \n",
       "..                                                 ...  \n",
       "884  https://www.sciencedirect.com/science/article/...  \n",
       "885  https://www.sciencedirect.com/science/article/...  \n",
       "886  https://www.sciencedirect.com/science/article/...  \n",
       "887  https://www.sciencedirect.com/science/article/...  \n",
       "888  https://www.sciencedirect.com/science/article/...  \n",
       "\n",
       "[889 rows x 6 columns]"
      ]
     },
     "execution_count": 27,
     "metadata": {},
     "output_type": "execute_result"
    }
   ],
   "source": [
    "df"
   ]
  },
  {
   "cell_type": "markdown",
   "metadata": {},
   "source": [
    "# 크롤링 3차(나머지 hopefully)"
   ]
  },
  {
   "cell_type": "code",
   "execution_count": 28,
   "metadata": {
    "ExecuteTime": {
     "end_time": "2020-02-10T00:17:57.709507Z",
     "start_time": "2020-02-10T00:04:56.713623Z"
    }
   },
   "outputs": [
    {
     "name": "stdout",
     "output_type": "stream",
     "text": [
      "finished\n"
     ]
    }
   ],
   "source": [
    "for i in range(10, 28):\n",
    "    url = f\"https://www.sciencedirect.com/journal/data-in-brief/vol/{i}/suppl/C\"\n",
    "    driver.get(url)\n",
    "    elem = driver.find_element_by_tag_name(\"body\")\n",
    "    elem.send_keys(Keys.PAGE_DOWN)\n",
    "    articles = driver.find_elements_by_class_name('anchor.article-content-title.u-margin-xs-top.u-margin-s-bottom')\n",
    "    article_url = [article.get_attribute('href') for article in articles]\n",
    "    for k in range(len(article_url)):\n",
    "        driver.get(article_url[k])\n",
    "        view_more = driver.find_elements_by_class_name('author.size-m.workspace-trigger')\n",
    "        if len(view_more) != 0:\n",
    "            for item in view_more:\n",
    "                envelope = item.find_elements_by_class_name('icon.icon-envelope')\n",
    "                if not not envelope:\n",
    "                    item.click()\n",
    "#                     wait.until(EC.presence_of_element_located((By.CLASS_NAME, 'WorkspaceAuthor.text-s')))\n",
    "#                     wait.until(EC.presence_of_element_located((By.CLASS_NAME, 'e-address')))\n",
    "                    author = driver.find_element_by_class_name('WorkspaceAuthor.text-s').find_element_by_class_name('author').text\n",
    "                    email = driver.find_element_by_class_name('e-address').text\n",
    "                    year = driver.find_element_by_class_name('text-xs').text.split()[3].replace(',', '')\n",
    "                    df = df.append({'Platform': 'Data in Brief', 'Year': year, 'Volume': i, 'Author': author, 'Email': email, 'URL': article_url[k] }, ignore_index=True)\n",
    "#                     wait.until(EC.element_to_be_clickable((By.CLASS_NAME, 'icon.icon-cross')))\n",
    "                    elem = driver.find_element_by_tag_name(\"body\")\n",
    "                    elem.send_keys(Keys.RETURN)    #저자 정보 창 닫기\n",
    "print('finished')"
   ]
  },
  {
   "cell_type": "code",
   "execution_count": 30,
   "metadata": {
    "ExecuteTime": {
     "end_time": "2020-02-10T01:53:52.216154Z",
     "start_time": "2020-02-10T01:53:52.203135Z"
    }
   },
   "outputs": [
    {
     "data": {
      "text/html": [
       "<div>\n",
       "<style scoped>\n",
       "    .dataframe tbody tr th:only-of-type {\n",
       "        vertical-align: middle;\n",
       "    }\n",
       "\n",
       "    .dataframe tbody tr th {\n",
       "        vertical-align: top;\n",
       "    }\n",
       "\n",
       "    .dataframe thead th {\n",
       "        text-align: right;\n",
       "    }\n",
       "</style>\n",
       "<table border=\"1\" class=\"dataframe\">\n",
       "  <thead>\n",
       "    <tr style=\"text-align: right;\">\n",
       "      <th></th>\n",
       "      <th>Platform</th>\n",
       "      <th>Year</th>\n",
       "      <th>Volume</th>\n",
       "      <th>Author</th>\n",
       "      <th>Email</th>\n",
       "      <th>URL</th>\n",
       "    </tr>\n",
       "  </thead>\n",
       "  <tbody>\n",
       "    <tr>\n",
       "      <td>0</td>\n",
       "      <td>Data in Brief</td>\n",
       "      <td>2014</td>\n",
       "      <td>1</td>\n",
       "      <td>Hao-Ran Wang Ph.D.</td>\n",
       "      <td>hao-ran.wang@novartis.com</td>\n",
       "      <td>https://www.sciencedirect.com/science/article/...</td>\n",
       "    </tr>\n",
       "    <tr>\n",
       "      <td>1</td>\n",
       "      <td>Data in Brief</td>\n",
       "      <td>2014</td>\n",
       "      <td>1</td>\n",
       "      <td>Fan-Tso Chien</td>\n",
       "      <td>fantso@phys.sinica.edu.tw</td>\n",
       "      <td>https://www.sciencedirect.com/science/article/...</td>\n",
       "    </tr>\n",
       "    <tr>\n",
       "      <td>2</td>\n",
       "      <td>Data in Brief</td>\n",
       "      <td>2014</td>\n",
       "      <td>1</td>\n",
       "      <td>Jacek R. Wiśniewski</td>\n",
       "      <td>jwisniew@biochem.mpg.de</td>\n",
       "      <td>https://www.sciencedirect.com/science/article/...</td>\n",
       "    </tr>\n",
       "    <tr>\n",
       "      <td>3</td>\n",
       "      <td>Data in Brief</td>\n",
       "      <td>2014</td>\n",
       "      <td>1</td>\n",
       "      <td>Michael W. Gray</td>\n",
       "      <td>m.w.gray@dal.ca</td>\n",
       "      <td>https://www.sciencedirect.com/science/article/...</td>\n",
       "    </tr>\n",
       "    <tr>\n",
       "      <td>4</td>\n",
       "      <td>Data in Brief</td>\n",
       "      <td>2014</td>\n",
       "      <td>1</td>\n",
       "      <td>L.A. de Luna-Valdez</td>\n",
       "      <td>ldeluna@ibt.unam.mx</td>\n",
       "      <td>https://www.sciencedirect.com/science/article/...</td>\n",
       "    </tr>\n",
       "    <tr>\n",
       "      <td>...</td>\n",
       "      <td>...</td>\n",
       "      <td>...</td>\n",
       "      <td>...</td>\n",
       "      <td>...</td>\n",
       "      <td>...</td>\n",
       "      <td>...</td>\n",
       "    </tr>\n",
       "    <tr>\n",
       "      <td>1799</td>\n",
       "      <td>Data in Brief</td>\n",
       "      <td>2018</td>\n",
       "      <td>16</td>\n",
       "      <td>Luis Fernando Marins</td>\n",
       "      <td>dqmluf@furg.br</td>\n",
       "      <td>https://www.sciencedirect.com/science/article/...</td>\n",
       "    </tr>\n",
       "    <tr>\n",
       "      <td>1800</td>\n",
       "      <td>Data in Brief</td>\n",
       "      <td>2018</td>\n",
       "      <td>16</td>\n",
       "      <td>Kevin M. Rice</td>\n",
       "      <td>rice9@marshall.edu</td>\n",
       "      <td>https://www.sciencedirect.com/science/article/...</td>\n",
       "    </tr>\n",
       "    <tr>\n",
       "      <td>1801</td>\n",
       "      <td>Data in Brief</td>\n",
       "      <td>2018</td>\n",
       "      <td>16</td>\n",
       "      <td>Kevin M. Rice</td>\n",
       "      <td>rice9@marshall.edu</td>\n",
       "      <td>https://www.sciencedirect.com/science/article/...</td>\n",
       "    </tr>\n",
       "    <tr>\n",
       "      <td>1802</td>\n",
       "      <td>Data in Brief</td>\n",
       "      <td>2018</td>\n",
       "      <td>16</td>\n",
       "      <td>Nikita A. Prianichnikov</td>\n",
       "      <td>lpenguin@yandex.ru</td>\n",
       "      <td>https://www.sciencedirect.com/science/article/...</td>\n",
       "    </tr>\n",
       "    <tr>\n",
       "      <td>1803</td>\n",
       "      <td>Data in Brief</td>\n",
       "      <td>2018</td>\n",
       "      <td>16</td>\n",
       "      <td>Ramona Kuhn</td>\n",
       "      <td>Kuhnr@b-tu.de</td>\n",
       "      <td>https://www.sciencedirect.com/science/article/...</td>\n",
       "    </tr>\n",
       "  </tbody>\n",
       "</table>\n",
       "<p>1804 rows × 6 columns</p>\n",
       "</div>"
      ],
      "text/plain": [
       "           Platform  Year  Volume                   Author  \\\n",
       "0     Data in Brief  2014       1       Hao-Ran Wang Ph.D.   \n",
       "1     Data in Brief  2014       1            Fan-Tso Chien   \n",
       "2     Data in Brief  2014       1      Jacek R. Wiśniewski   \n",
       "3     Data in Brief  2014       1          Michael W. Gray   \n",
       "4     Data in Brief  2014       1      L.A. de Luna-Valdez   \n",
       "...             ...   ...     ...                      ...   \n",
       "1799  Data in Brief  2018      16     Luis Fernando Marins   \n",
       "1800  Data in Brief  2018      16            Kevin M. Rice   \n",
       "1801  Data in Brief  2018      16            Kevin M. Rice   \n",
       "1802  Data in Brief  2018      16  Nikita A. Prianichnikov   \n",
       "1803  Data in Brief  2018      16              Ramona Kuhn   \n",
       "\n",
       "                          Email  \\\n",
       "0     hao-ran.wang@novartis.com   \n",
       "1     fantso@phys.sinica.edu.tw   \n",
       "2       jwisniew@biochem.mpg.de   \n",
       "3               m.w.gray@dal.ca   \n",
       "4           ldeluna@ibt.unam.mx   \n",
       "...                         ...   \n",
       "1799             dqmluf@furg.br   \n",
       "1800         rice9@marshall.edu   \n",
       "1801         rice9@marshall.edu   \n",
       "1802         lpenguin@yandex.ru   \n",
       "1803              Kuhnr@b-tu.de   \n",
       "\n",
       "                                                    URL  \n",
       "0     https://www.sciencedirect.com/science/article/...  \n",
       "1     https://www.sciencedirect.com/science/article/...  \n",
       "2     https://www.sciencedirect.com/science/article/...  \n",
       "3     https://www.sciencedirect.com/science/article/...  \n",
       "4     https://www.sciencedirect.com/science/article/...  \n",
       "...                                                 ...  \n",
       "1799  https://www.sciencedirect.com/science/article/...  \n",
       "1800  https://www.sciencedirect.com/science/article/...  \n",
       "1801  https://www.sciencedirect.com/science/article/...  \n",
       "1802  https://www.sciencedirect.com/science/article/...  \n",
       "1803  https://www.sciencedirect.com/science/article/...  \n",
       "\n",
       "[1804 rows x 6 columns]"
      ]
     },
     "execution_count": 30,
     "metadata": {},
     "output_type": "execute_result"
    }
   ],
   "source": [
    "df"
   ]
  },
  {
   "cell_type": "code",
   "execution_count": null,
   "metadata": {},
   "outputs": [],
   "source": []
  }
 ],
 "metadata": {
  "kernelspec": {
   "display_name": "Python 3",
   "language": "python",
   "name": "python3"
  },
  "language_info": {
   "codemirror_mode": {
    "name": "ipython",
    "version": 3
   },
   "file_extension": ".py",
   "mimetype": "text/x-python",
   "name": "python",
   "nbconvert_exporter": "python",
   "pygments_lexer": "ipython3",
   "version": "3.7.4"
  },
  "varInspector": {
   "cols": {
    "lenName": 16,
    "lenType": 16,
    "lenVar": 40
   },
   "kernels_config": {
    "python": {
     "delete_cmd_postfix": "",
     "delete_cmd_prefix": "del ",
     "library": "var_list.py",
     "varRefreshCmd": "print(var_dic_list())"
    },
    "r": {
     "delete_cmd_postfix": ") ",
     "delete_cmd_prefix": "rm(",
     "library": "var_list.r",
     "varRefreshCmd": "cat(var_dic_list()) "
    }
   },
   "types_to_exclude": [
    "module",
    "function",
    "builtin_function_or_method",
    "instance",
    "_Feature"
   ],
   "window_display": false
  }
 },
 "nbformat": 4,
 "nbformat_minor": 2
}
